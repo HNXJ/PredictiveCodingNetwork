{
  "nbformat": 4,
  "nbformat_minor": 0,
  "metadata": {
    "colab": {
      "name": "PredictiveLSTM.ipynb",
      "provenance": [],
      "collapsed_sections": [],
      "authorship_tag": "ABX9TyO4FKpUmbEwv18OFSVq9iYM",
      "include_colab_link": true
    },
    "kernelspec": {
      "name": "python3",
      "display_name": "Python 3"
    },
    "language_info": {
      "name": "python"
    },
    "accelerator": "GPU"
  },
  "cells": [
    {
      "cell_type": "markdown",
      "metadata": {
        "id": "view-in-github",
        "colab_type": "text"
      },
      "source": [
        "<a href=\"https://colab.research.google.com/github/HNXJ/PredictiveCodingNetwork/blob/main/PredictiveLSTMTestBench1.ipynb\" target=\"_parent\"><img src=\"https://colab.research.google.com/assets/colab-badge.svg\" alt=\"Open In Colab\"/></a>"
      ]
    },
    {
      "cell_type": "code",
      "metadata": {
        "colab": {
          "base_uri": "https://localhost:8080/"
        },
        "id": "Nx1wIbKYUJZv",
        "outputId": "2e39b6d6-455d-45cb-89cf-eb8bf42dc7c4"
      },
      "source": [
        "from tensorflow.keras import backend as K\n",
        "from matplotlib import pyplot as plt\n",
        "import tensorflow as tf\n",
        "import numpy as np\n",
        "\n",
        "\n",
        "# GPU config if needed\n",
        "device_name = tf.test.gpu_device_name()\n",
        "if device_name != '/device:GPU:0':\n",
        "  print('GPU device not found')\n",
        "print('Found GPU at: {}'.format(device_name))"
      ],
      "execution_count": 1,
      "outputs": [
        {
          "output_type": "stream",
          "text": [
            "Found GPU at: /device:GPU:0\n"
          ],
          "name": "stdout"
        }
      ]
    },
    {
      "cell_type": "markdown",
      "metadata": {
        "id": "yzeiPBSWSqzf"
      },
      "source": [
        "# Recurrent neural network based on predictive coding properties\n",
        "\n",
        "In this simulation, we will use task of [Abdullahi et. al 2020] by increasing temporal resolution from one image per step to 10 iterations for each input."
      ]
    },
    {
      "cell_type": "code",
      "metadata": {
        "id": "D9gapZk0XZd5"
      },
      "source": [
        "# TB\n",
        "# dir(tf.keras.layers.LSTM)"
      ],
      "execution_count": 2,
      "outputs": []
    },
    {
      "cell_type": "code",
      "metadata": {
        "id": "pqPCOuRhVWR6"
      },
      "source": [
        "def create_serial_dataset(x=None, y=None, n=100, length=10, frames=10):\n",
        "\n",
        "    X = np.zeros([n, length*frames, x.shape[1], x.shape[2]])\n",
        "    Y = np.zeros([n, length*frames, 10])\n",
        "\n",
        "    for i in range(n):\n",
        "\n",
        "        k = np.random.randint(0, 1000, size=(length))\n",
        "        for j in range(length):\n",
        "          \n",
        "            X[i, j*frames:j*frames+frames, :, :] = x[k[j], :, :]\n",
        "            Y[i, j*frames-1:j*frames+frames-1, y[k[j]]] = 1\n",
        "          \n",
        "    return X.reshape(n, length*frames, x.shape[1] * x.shape[2]), Y\n",
        "\n",
        "def init_MNIST():\n",
        "\n",
        "    (x_train,y_train), (x_test,y_test) = tf.keras.datasets.mnist.load_data()\n",
        "    Xn, Yn = create_serial_dataset(x_train, y_train, n=100, length=10, frames=10)\n",
        "    Xn /= 255.0\n",
        "    Yn /= 255.0\n",
        "    X = Xn[:10, :, :]\n",
        "    Y = Yn[:10, :, :]\n",
        "    return X, Y, Xn, Yn"
      ],
      "execution_count": 69,
      "outputs": []
    },
    {
      "cell_type": "code",
      "metadata": {
        "id": "zIUZqCsgYKio"
      },
      "source": [
        "class RNNModel1(tf.keras.Model):\n",
        "    def __init__(self):\n",
        "        super(RNNModel1, self).__init__()\n",
        "        self.Input = (tf.keras.layers.InputLayer(input_shape=(None, 784)))\n",
        "        self.LSTM = tf.keras.layers.LSTM(input_shape=(None, 784),\n",
        "          units=512,\n",
        "          recurrent_dropout=0.2,\n",
        "          return_sequences=True,\n",
        "          # return_state=True\n",
        "        )\n",
        "        self.FCN = tf.keras.layers.Dense(units=10)\n",
        "        return \n",
        "        \n",
        "    def call(self, x):\n",
        "        out = self.Input(x)\n",
        "        out = self.LSTM(x)\n",
        "        out = self.FCN(out)\n",
        "        return out\n",
        "\n",
        "    def get_state(self):\n",
        "        return"
      ],
      "execution_count": 70,
      "outputs": []
    },
    {
      "cell_type": "code",
      "metadata": {
        "id": "7ro8ZWDSeKqR"
      },
      "source": [
        "class PredictiveNet():\n",
        "    def __init__(self):\n",
        "        self.model = tf.keras.Sequential()\n",
        "        self.model.add(tf.keras.layers.InputLayer(input_shape=(None, 784)))\n",
        "        self.model.add(tf.keras.layers.LSTM(\n",
        "          units=512,\n",
        "          recurrent_dropout=0.2,\n",
        "          return_sequences=True,\n",
        "          activation=\"sigmoid\"\n",
        "          # return_state=True\n",
        "        ))\n",
        "        self.model.add(tf.keras.layers.Dense(units=10))\n",
        "        self.lastPreactivation = None\n",
        "        return\n",
        "\n",
        "    def printw(self): # Debug log\n",
        "        print(K.mean(self.model.layers[1].weights[0]))\n",
        "        return\n",
        "\n",
        "    def getPreactivation(self, x):\n",
        "        MTemp = K.function([self.model.layers[0].input],\n",
        "                                  [self.model.layers[1].input])\n",
        "        stateVector = MTemp(x)\n",
        "        self.lastPreactivation = stateVector[0]\n",
        "        return self.lastPreactivation\n",
        "\n",
        "    def EnergyCostLoss(self, y_true, y_pred):\n",
        "        error = y_pred - y_true\n",
        "        lambda1 = 1.2\n",
        "        lambda2 = 0.1\n",
        "        lambda3 = 0.1\n",
        "        # preact = self.lastPreactivation\n",
        "        return K.mean(K.square(error) + lambda1*K.mean(K.abs(y_pred))) + lambda2*K.mean(K.abs(self.model.layers[0].weights[0])) + lambda3*K.mean(K.abs(self.model.layers[1].weights[0]))"
      ],
      "execution_count": 89,
      "outputs": []
    },
    {
      "cell_type": "code",
      "metadata": {
        "colab": {
          "base_uri": "https://localhost:8080/"
        },
        "id": "5iTIYNPGZCOp",
        "outputId": "3619ae23-96ba-4403-e83a-27d654ecf781"
      },
      "source": [
        "X, Y, Xn, Yn = init_MNIST()\n",
        "Net1 = PredictiveNet()\n",
        "# a = model.predict(Xn[1:2, :, :])\n",
        "Net1.model.compile(\n",
        "  loss=Net1.EnergyCostLoss,\n",
        "  optimizer=tf.keras.optimizers.Adam(learning_rate=0.001)\n",
        ")\n",
        "Net1.model.summary()\n",
        "\n",
        "Net1.printw()\n"
      ],
      "execution_count": 90,
      "outputs": [
        {
          "output_type": "stream",
          "text": [
            "WARNING:tensorflow:Layer lstm_8 will not use cuDNN kernels since it doesn't meet the criteria. It will use a generic GPU kernel as fallback when running on GPU.\n",
            "Model: \"sequential_8\"\n",
            "_________________________________________________________________\n",
            "Layer (type)                 Output Shape              Param #   \n",
            "=================================================================\n",
            "lstm_8 (LSTM)                (None, None, 512)         2656256   \n",
            "_________________________________________________________________\n",
            "dense_8 (Dense)              (None, None, 10)          5130      \n",
            "=================================================================\n",
            "Total params: 2,661,386\n",
            "Trainable params: 2,661,386\n",
            "Non-trainable params: 0\n",
            "_________________________________________________________________\n",
            "tf.Tensor(-0.00010819002, shape=(), dtype=float32)\n"
          ],
          "name": "stdout"
        }
      ]
    },
    {
      "cell_type": "code",
      "metadata": {
        "id": "HE5dIE-Yw4L9"
      },
      "source": [
        ""
      ],
      "execution_count": 90,
      "outputs": []
    },
    {
      "cell_type": "code",
      "metadata": {
        "colab": {
          "base_uri": "https://localhost:8080/"
        },
        "id": "ZIqr5QqRVBEw",
        "outputId": "93aad176-1f38-4ac2-af53-7a7ecdfbfc20"
      },
      "source": [
        "history = Net1.model.fit(\n",
        "    x=X, y=Y,\n",
        "    epochs=100,\n",
        "    batch_size=5,\n",
        "    validation_split=0.0,\n",
        "    verbose=1,\n",
        "    shuffle=True\n",
        ")"
      ],
      "execution_count": 117,
      "outputs": [
        {
          "output_type": "stream",
          "text": [
            "Epoch 1/100\n",
            "2/2 [==============================] - 1s 334ms/step - loss: 0.1627\n",
            "Epoch 2/100\n",
            "2/2 [==============================] - 1s 310ms/step - loss: 0.1414\n",
            "Epoch 3/100\n",
            "2/2 [==============================] - 1s 312ms/step - loss: 0.1262\n",
            "Epoch 4/100\n",
            "2/2 [==============================] - 1s 316ms/step - loss: 0.1099\n",
            "Epoch 5/100\n",
            "2/2 [==============================] - 1s 311ms/step - loss: 0.1011\n",
            "Epoch 6/100\n",
            "2/2 [==============================] - 1s 317ms/step - loss: 0.0885\n",
            "Epoch 7/100\n",
            "2/2 [==============================] - 1s 310ms/step - loss: 0.0814\n",
            "Epoch 8/100\n",
            "2/2 [==============================] - 1s 315ms/step - loss: 0.0733\n",
            "Epoch 9/100\n",
            "2/2 [==============================] - 1s 311ms/step - loss: 0.0686\n",
            "Epoch 10/100\n",
            "2/2 [==============================] - 1s 313ms/step - loss: 0.0646\n",
            "Epoch 11/100\n",
            "2/2 [==============================] - 1s 307ms/step - loss: 0.0577\n",
            "Epoch 12/100\n",
            "2/2 [==============================] - 1s 311ms/step - loss: 0.0539\n",
            "Epoch 13/100\n",
            "2/2 [==============================] - 1s 309ms/step - loss: 0.0495\n",
            "Epoch 14/100\n",
            "2/2 [==============================] - 1s 311ms/step - loss: 0.0484\n",
            "Epoch 15/100\n",
            "2/2 [==============================] - 1s 311ms/step - loss: 0.0426\n",
            "Epoch 16/100\n",
            "2/2 [==============================] - 1s 324ms/step - loss: 0.0446\n",
            "Epoch 17/100\n",
            "2/2 [==============================] - 1s 316ms/step - loss: 0.0401\n",
            "Epoch 18/100\n",
            "2/2 [==============================] - 1s 311ms/step - loss: 0.0383\n",
            "Epoch 19/100\n",
            "2/2 [==============================] - 1s 318ms/step - loss: 0.0387\n",
            "Epoch 20/100\n",
            "2/2 [==============================] - 1s 312ms/step - loss: 0.0348\n",
            "Epoch 21/100\n",
            "2/2 [==============================] - 1s 309ms/step - loss: 0.0346\n",
            "Epoch 22/100\n",
            "2/2 [==============================] - 1s 311ms/step - loss: 0.0337\n",
            "Epoch 23/100\n",
            "2/2 [==============================] - 1s 309ms/step - loss: 0.0329\n",
            "Epoch 24/100\n",
            "2/2 [==============================] - 1s 310ms/step - loss: 0.0316\n",
            "Epoch 25/100\n",
            "2/2 [==============================] - 1s 314ms/step - loss: 0.0309\n",
            "Epoch 26/100\n",
            "2/2 [==============================] - 1s 311ms/step - loss: 0.0302\n",
            "Epoch 27/100\n",
            "2/2 [==============================] - 1s 309ms/step - loss: 0.0296\n",
            "Epoch 28/100\n",
            "2/2 [==============================] - 1s 310ms/step - loss: 0.0294\n",
            "Epoch 29/100\n",
            "2/2 [==============================] - 1s 312ms/step - loss: 0.0287\n",
            "Epoch 30/100\n",
            "2/2 [==============================] - 1s 317ms/step - loss: 0.0284\n",
            "Epoch 31/100\n",
            "2/2 [==============================] - 1s 314ms/step - loss: 0.0276\n",
            "Epoch 32/100\n",
            "2/2 [==============================] - 1s 312ms/step - loss: 0.0271\n",
            "Epoch 33/100\n",
            "2/2 [==============================] - 1s 315ms/step - loss: 0.0276\n",
            "Epoch 34/100\n",
            "2/2 [==============================] - 1s 316ms/step - loss: 0.0271\n",
            "Epoch 35/100\n",
            "2/2 [==============================] - 1s 307ms/step - loss: 0.0271\n",
            "Epoch 36/100\n",
            "2/2 [==============================] - 1s 313ms/step - loss: 0.0272\n",
            "Epoch 37/100\n",
            "2/2 [==============================] - 1s 315ms/step - loss: 0.0268\n",
            "Epoch 38/100\n",
            "2/2 [==============================] - 1s 311ms/step - loss: 0.0261\n",
            "Epoch 39/100\n",
            "2/2 [==============================] - 1s 313ms/step - loss: 0.0267\n",
            "Epoch 40/100\n",
            "2/2 [==============================] - 1s 313ms/step - loss: 0.0256\n",
            "Epoch 41/100\n",
            "2/2 [==============================] - 1s 309ms/step - loss: 0.0253\n",
            "Epoch 42/100\n",
            "2/2 [==============================] - 1s 316ms/step - loss: 0.0257\n",
            "Epoch 43/100\n",
            "2/2 [==============================] - 1s 314ms/step - loss: 0.0255\n",
            "Epoch 44/100\n",
            "2/2 [==============================] - 1s 316ms/step - loss: 0.0255\n",
            "Epoch 45/100\n",
            "2/2 [==============================] - 1s 307ms/step - loss: 0.0260\n",
            "Epoch 46/100\n",
            "2/2 [==============================] - 1s 312ms/step - loss: 0.0258\n",
            "Epoch 47/100\n",
            "2/2 [==============================] - 1s 318ms/step - loss: 0.0259\n",
            "Epoch 48/100\n",
            "2/2 [==============================] - 1s 313ms/step - loss: 0.0256\n",
            "Epoch 49/100\n",
            "2/2 [==============================] - 1s 316ms/step - loss: 0.0245\n",
            "Epoch 50/100\n",
            "2/2 [==============================] - 1s 311ms/step - loss: 0.0241\n",
            "Epoch 51/100\n",
            "2/2 [==============================] - 1s 313ms/step - loss: 0.0246\n",
            "Epoch 52/100\n",
            "2/2 [==============================] - 1s 312ms/step - loss: 0.0247\n",
            "Epoch 53/100\n",
            "2/2 [==============================] - 1s 312ms/step - loss: 0.0247\n",
            "Epoch 54/100\n",
            "2/2 [==============================] - 1s 314ms/step - loss: 0.0247\n",
            "Epoch 55/100\n",
            "2/2 [==============================] - 1s 316ms/step - loss: 0.0241\n",
            "Epoch 56/100\n",
            "2/2 [==============================] - 1s 310ms/step - loss: 0.0241\n",
            "Epoch 57/100\n",
            "2/2 [==============================] - 1s 313ms/step - loss: 0.0248\n",
            "Epoch 58/100\n",
            "2/2 [==============================] - 1s 316ms/step - loss: 0.0249\n",
            "Epoch 59/100\n",
            "2/2 [==============================] - 1s 313ms/step - loss: 0.0247\n",
            "Epoch 60/100\n",
            "2/2 [==============================] - 1s 312ms/step - loss: 0.0241\n",
            "Epoch 61/100\n",
            "2/2 [==============================] - 1s 310ms/step - loss: 0.0250\n",
            "Epoch 62/100\n",
            "2/2 [==============================] - 1s 312ms/step - loss: 0.0241\n",
            "Epoch 63/100\n",
            "2/2 [==============================] - 1s 309ms/step - loss: 0.0238\n",
            "Epoch 64/100\n",
            "2/2 [==============================] - 1s 311ms/step - loss: 0.0243\n",
            "Epoch 65/100\n",
            "2/2 [==============================] - 1s 311ms/step - loss: 0.0246\n",
            "Epoch 66/100\n",
            "2/2 [==============================] - 1s 315ms/step - loss: 0.0241\n",
            "Epoch 67/100\n",
            "2/2 [==============================] - 1s 312ms/step - loss: 0.0251\n",
            "Epoch 68/100\n",
            "2/2 [==============================] - 1s 308ms/step - loss: 0.0250\n",
            "Epoch 69/100\n",
            "2/2 [==============================] - 1s 312ms/step - loss: 0.0240\n",
            "Epoch 70/100\n",
            "2/2 [==============================] - 1s 313ms/step - loss: 0.0248\n",
            "Epoch 71/100\n",
            "2/2 [==============================] - 1s 313ms/step - loss: 0.0249\n",
            "Epoch 72/100\n",
            "2/2 [==============================] - 1s 306ms/step - loss: 0.0241\n",
            "Epoch 73/100\n",
            "2/2 [==============================] - 1s 311ms/step - loss: 0.0240\n",
            "Epoch 74/100\n",
            "2/2 [==============================] - 1s 310ms/step - loss: 0.0266\n",
            "Epoch 75/100\n",
            "2/2 [==============================] - 1s 312ms/step - loss: 0.0234\n",
            "Epoch 76/100\n",
            "2/2 [==============================] - 1s 312ms/step - loss: 0.0247\n",
            "Epoch 77/100\n",
            "2/2 [==============================] - 1s 306ms/step - loss: 0.0247\n",
            "Epoch 78/100\n",
            "2/2 [==============================] - 1s 316ms/step - loss: 0.0241\n",
            "Epoch 79/100\n",
            "2/2 [==============================] - 1s 312ms/step - loss: 0.0239\n",
            "Epoch 80/100\n",
            "2/2 [==============================] - 1s 311ms/step - loss: 0.0236\n",
            "Epoch 81/100\n",
            "2/2 [==============================] - 1s 309ms/step - loss: 0.0233\n",
            "Epoch 82/100\n",
            "2/2 [==============================] - 1s 309ms/step - loss: 0.0228\n",
            "Epoch 83/100\n",
            "2/2 [==============================] - 1s 311ms/step - loss: 0.0235\n",
            "Epoch 84/100\n",
            "2/2 [==============================] - 1s 316ms/step - loss: 0.0235\n",
            "Epoch 85/100\n",
            "2/2 [==============================] - 1s 329ms/step - loss: 0.0246\n",
            "Epoch 86/100\n",
            "2/2 [==============================] - 1s 313ms/step - loss: 0.0248\n",
            "Epoch 87/100\n",
            "2/2 [==============================] - 1s 314ms/step - loss: 0.0265\n",
            "Epoch 88/100\n",
            "2/2 [==============================] - 1s 311ms/step - loss: 0.0257\n",
            "Epoch 89/100\n",
            "2/2 [==============================] - 1s 314ms/step - loss: 0.0272\n",
            "Epoch 90/100\n",
            "2/2 [==============================] - 1s 313ms/step - loss: 0.0255\n",
            "Epoch 91/100\n",
            "2/2 [==============================] - 1s 318ms/step - loss: 0.0258\n",
            "Epoch 92/100\n",
            "2/2 [==============================] - 1s 310ms/step - loss: 0.0256\n",
            "Epoch 93/100\n",
            "2/2 [==============================] - 1s 313ms/step - loss: 0.0261\n",
            "Epoch 94/100\n",
            "2/2 [==============================] - 1s 315ms/step - loss: 0.0246\n",
            "Epoch 95/100\n",
            "2/2 [==============================] - 1s 318ms/step - loss: 0.0236\n",
            "Epoch 96/100\n",
            "2/2 [==============================] - 1s 316ms/step - loss: 0.0238\n",
            "Epoch 97/100\n",
            "2/2 [==============================] - 1s 309ms/step - loss: 0.0232\n",
            "Epoch 98/100\n",
            "2/2 [==============================] - 1s 317ms/step - loss: 0.0241\n",
            "Epoch 99/100\n",
            "2/2 [==============================] - 1s 320ms/step - loss: 0.0252\n",
            "Epoch 100/100\n",
            "2/2 [==============================] - 1s 315ms/step - loss: 0.0259\n"
          ],
          "name": "stdout"
        }
      ]
    },
    {
      "cell_type": "code",
      "metadata": {
        "id": "qAzs21WYVFtI",
        "colab": {
          "base_uri": "https://localhost:8080/"
        },
        "outputId": "d005abaf-84b4-4016-c7ed-f99815fe9e36"
      },
      "source": [
        "# Single epoch for test\n",
        "history = Net1.model.fit(\n",
        "    x=X, y=Y,\n",
        "    epochs=1,\n",
        "    batch_size=5,\n",
        "    validation_split=0.0,\n",
        "    verbose=1,\n",
        "    shuffle=True\n",
        ")\n",
        "# history2 = L1.fit(x=X, y=Y, epochs=1, batch_size=5, validation_split=0.0, verbose=1, shuffle=True)"
      ],
      "execution_count": 119,
      "outputs": [
        {
          "output_type": "stream",
          "text": [
            "2/2 [==============================] - 1s 347ms/step - loss: 0.0251\n"
          ],
          "name": "stdout"
        }
      ]
    },
    {
      "cell_type": "code",
      "metadata": {
        "colab": {
          "base_uri": "https://localhost:8080/"
        },
        "id": "1dMlf8hTlL1b",
        "outputId": "3efc4b12-b4de-4439-8420-680876e71e5a"
      },
      "source": [
        "Net1.getPreactivation(Xn[8:9, :, :]).shape"
      ],
      "execution_count": 120,
      "outputs": [
        {
          "output_type": "execute_result",
          "data": {
            "text/plain": [
              "(1, 100, 512)"
            ]
          },
          "metadata": {
            "tags": []
          },
          "execution_count": 120
        }
      ]
    },
    {
      "cell_type": "code",
      "metadata": {
        "id": "Nv0A7HJFPTAD"
      },
      "source": [
        "means1 = []\n",
        "means1a = []\n",
        "\n",
        "for k in range(10):\n",
        "    l, r = k, k+1\n",
        "    l_pred = Net1.getPreactivation(Xn[l:r, :, :])\n",
        "    y_pred = Net1.model.predict(Xn[l:r, :, :])\n",
        "\n",
        "    # for i in range(7):\n",
        "        # plt.plot(l_pred[0][0, :, i])\n",
        "    # for i in range(10):\n",
        "    # plt.plot(y_pred[0, :, 6])\n",
        "    # for i in range(0, 100, 10):\n",
        "    #     print(Yn[l:r, i, :])\n",
        "    means1.append(np.mean(np.mean(l_pred)))\n",
        "    means1a.append(np.mean(np.mean(np.abs(l_pred))))"
      ],
      "execution_count": 121,
      "outputs": []
    },
    {
      "cell_type": "code",
      "metadata": {
        "id": "bvl4w8AcPho3"
      },
      "source": [
        "means2 = []\n",
        "means2a = []\n",
        "\n",
        "for k in range(10, 30):\n",
        "    l, r = k, k+1\n",
        "    l_pred = Net1.getPreactivation(Xn[l:r, :, :])\n",
        "    y_pred = Net1.model.predict(Xn[l:r, :, :])\n",
        "\n",
        "    # for i in range(7):\n",
        "    #     plt.plot(l_pred[0, i, :])\n",
        "    # for i in range(10):\n",
        "    # plt.plot(y_pred[0, :, 6])\n",
        "    # for i in range(0, 100, 10):\n",
        "    #     print(Yn[l:r, i, :])\n",
        "    means2.append(np.mean(np.mean(l_pred)))\n",
        "    means2a.append(np.mean(np.mean(np.abs(l_pred))))"
      ],
      "execution_count": 122,
      "outputs": []
    },
    {
      "cell_type": "code",
      "metadata": {
        "colab": {
          "base_uri": "https://localhost:8080/"
        },
        "id": "kDjwIPy5RDRf",
        "outputId": "4c72c2d7-e5de-4c87-ea56-9afcec55202f"
      },
      "source": [
        "print(\"Mean energy on recurrent preactivation (LSTM) on sigmoid activation function\")\n",
        "print(np.mean(means1), np.mean(means2), \"(ME)\")\n",
        "print(np.mean(means1a), np.mean(means2a), \"(MAE)\")\n",
        "print(100*np.abs(np.mean(means1)-np.mean(means2))/np.mean(means1), \"(Difference ratio, percentage %)\")"
      ],
      "execution_count": 123,
      "outputs": [
        {
          "output_type": "stream",
          "text": [
            "Mean energy on recurrent preactivation (LSTM) on sigmoid activation function\n",
            "0.1437399 0.14638282 (ME)\n",
            "0.1437399 0.14638282 (MAE)\n",
            "1.8386889539437257 (Difference ratio, percentage %)\n"
          ],
          "name": "stdout"
        }
      ]
    },
    {
      "cell_type": "markdown",
      "metadata": {
        "id": "RFbo2uU3hQfJ"
      },
      "source": [
        "## Lesioning the network\n",
        "\n",
        "In this section, we've lesioned the RNN via adding a gaussian noise with mean=0 and STD=0.1 to all weights of the network as a simulation of simple lesioning.\n"
      ]
    },
    {
      "cell_type": "code",
      "metadata": {
        "id": "OX_tEwkohTzn"
      },
      "source": [
        "Net2 = Net1\n",
        "w = Net2.model.get_weights()\n",
        "for i in range(len(w)):\n",
        "    w[i] += (np.random.randn(*w[i].shape))*0.03\n",
        "Net2.model.set_weights(w)"
      ],
      "execution_count": 124,
      "outputs": []
    },
    {
      "cell_type": "code",
      "metadata": {
        "colab": {
          "base_uri": "https://localhost:8080/"
        },
        "id": "yfYNWruWnms-",
        "outputId": "862ac62d-0b85-4e50-adb9-3dc80ac0d313"
      },
      "source": [
        "# Single epoch for test\n",
        "history = Net2.model.fit(\n",
        "    x=X, y=Y,\n",
        "    epochs=1,\n",
        "    batch_size=5,\n",
        "    validation_split=0.0,\n",
        "    verbose=1,\n",
        "    shuffle=True\n",
        ")\n",
        "# history2 = L1.fit(x=X, y=Y, epochs=1, batch_size=5, validation_split=0.0, verbose=1, shuffle=True)"
      ],
      "execution_count": 125,
      "outputs": [
        {
          "output_type": "stream",
          "text": [
            "2/2 [==============================] - 1s 311ms/step - loss: 0.1167\n"
          ],
          "name": "stdout"
        }
      ]
    },
    {
      "cell_type": "code",
      "metadata": {
        "id": "5nFimIkWRO0g"
      },
      "source": [
        "means1 = []\n",
        "means1a = []\n",
        "\n",
        "for k in range(10):\n",
        "    l, r = k, k+1\n",
        "    l_pred = Net2.getPreactivation(Xn[l:r, :, :])\n",
        "    y_pred = Net2.model.predict(Xn[l:r, :, :])\n",
        "\n",
        "    # for i in range(7):\n",
        "        # plt.plot(l_pred[0][0, :, i])\n",
        "    # for i in range(10):\n",
        "    # plt.plot(y_pred[0, :, 6])\n",
        "    # for i in range(0, 100, 10):\n",
        "    #     print(Yn[l:r, i, :])\n",
        "    means1.append(np.mean(np.mean(l_pred)))\n",
        "    means1a.append(np.mean(np.mean(np.abs(l_pred))))"
      ],
      "execution_count": 126,
      "outputs": []
    },
    {
      "cell_type": "code",
      "metadata": {
        "id": "IrNYpR5ricJz"
      },
      "source": [
        "means2 = []\n",
        "means2a = []\n",
        "\n",
        "for k in range(10, 30):\n",
        "    l, r = k, k+1\n",
        "    l_pred = Net2.getPreactivation(Xn[l:r, :, :])\n",
        "    y_pred = Net2.model.predict(Xn[l:r, :, :])\n",
        "\n",
        "    # for i in range(7):\n",
        "    #     plt.plot(l_pred[0, i, :])\n",
        "    # for i in range(10):\n",
        "    # plt.plot(y_pred[0, :, 6])\n",
        "    # for i in range(0, 100, 10):\n",
        "    #     print(Yn[l:r, i, :])\n",
        "    means2.append(np.mean(np.mean(l_pred)))\n",
        "    means2a.append(np.mean(np.mean(np.abs(l_pred))))"
      ],
      "execution_count": 127,
      "outputs": []
    },
    {
      "cell_type": "code",
      "metadata": {
        "colab": {
          "base_uri": "https://localhost:8080/"
        },
        "id": "SZqFPv4mifEc",
        "outputId": "b0fd1f70-e489-4492-abc1-115f9c63049b"
      },
      "source": [
        "print(\"Mean energy on recurrent preactivation (LSTM) on sigmoid activation function after lesioning\")\n",
        "print(np.mean(means1), np.mean(means2), \"(ME)\")\n",
        "print(np.mean(means1a), np.mean(means2a), \"(MAE)\")\n",
        "print(100*np.abs(np.mean(means1)-np.mean(means2))/np.mean(means2), \"(Difference ratio, percentage %)\")"
      ],
      "execution_count": 128,
      "outputs": [
        {
          "output_type": "stream",
          "text": [
            "Mean energy on recurrent preactivation (LSTM) on sigmoid activation function after lesioning\n",
            "0.1443796 0.1468887 (ME)\n",
            "0.1443796 0.1468887 (MAE)\n",
            "1.7081655513437741 (Difference ratio, percentage %)\n"
          ],
          "name": "stdout"
        }
      ]
    },
    {
      "cell_type": "code",
      "metadata": {
        "id": "XPA9gwQbpDkH"
      },
      "source": [
        ""
      ],
      "execution_count": null,
      "outputs": []
    }
  ]
}