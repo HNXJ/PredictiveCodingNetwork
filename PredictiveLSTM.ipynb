{
  "nbformat": 4,
  "nbformat_minor": 0,
  "metadata": {
    "colab": {
      "name": "PredictiveLSTM.ipynb",
      "provenance": [],
      "collapsed_sections": [],
      "authorship_tag": "ABX9TyOZhhGeyljnz99Xfo4V2pfL",
      "include_colab_link": true
    },
    "kernelspec": {
      "name": "python3",
      "display_name": "Python 3"
    },
    "language_info": {
      "name": "python"
    },
    "accelerator": "GPU"
  },
  "cells": [
    {
      "cell_type": "markdown",
      "metadata": {
        "id": "view-in-github",
        "colab_type": "text"
      },
      "source": [
        "<a href=\"https://colab.research.google.com/github/HNXJ/PredictiveCodingNetwork/blob/main/PredictiveLSTM.ipynb\" target=\"_parent\"><img src=\"https://colab.research.google.com/assets/colab-badge.svg\" alt=\"Open In Colab\"/></a>"
      ]
    },
    {
      "cell_type": "code",
      "metadata": {
        "colab": {
          "base_uri": "https://localhost:8080/"
        },
        "id": "Nx1wIbKYUJZv",
        "outputId": "e9085e54-7285-4bfb-9cb6-fd241d167d5a"
      },
      "source": [
        "from tensorflow.keras import backend as K\n",
        "from matplotlib import pyplot as plt\n",
        "import tensorflow as tf\n",
        "import numpy as np\n",
        "\n",
        "\n",
        "# GPU config if needed\n",
        "device_name = tf.test.gpu_device_name()\n",
        "if device_name != '/device:GPU:0':\n",
        "  print('GPU device not found')\n",
        "print('Found GPU at: {}'.format(device_name))"
      ],
      "execution_count": 1,
      "outputs": [
        {
          "output_type": "stream",
          "text": [
            "Found GPU at: /device:GPU:0\n"
          ],
          "name": "stdout"
        }
      ]
    },
    {
      "cell_type": "markdown",
      "metadata": {
        "id": "yzeiPBSWSqzf"
      },
      "source": [
        "# Recurrent neural network based on predictive coding properties\n",
        "\n",
        "In this simulation, we will use task of [Abdullahi et. al 2020] by increasing temporal resolution from one image per step to 10 iterations for each input."
      ]
    },
    {
      "cell_type": "code",
      "metadata": {
        "id": "D9gapZk0XZd5"
      },
      "source": [
        "# TB\n",
        "# dir(tf.keras.layers.LSTM)"
      ],
      "execution_count": 2,
      "outputs": []
    },
    {
      "cell_type": "code",
      "metadata": {
        "id": "pqPCOuRhVWR6"
      },
      "source": [
        "def create_serial_dataset(x=None, y=None, n=100, length=10, frames=10):\n",
        "\n",
        "    X = np.zeros([n, length*frames, x.shape[1], x.shape[2]])\n",
        "    Y = np.zeros([n, length*frames, 10])\n",
        "\n",
        "    for i in range(n):\n",
        "\n",
        "        k = np.random.randint(0, 1000, size=(length))\n",
        "        for j in range(length):\n",
        "          \n",
        "            X[i, j*frames:j*frames+frames, :, :] = x[k[j], :, :]\n",
        "            Y[i, j*frames:j*frames+frames, y[k[j]]] = 1\n",
        "          \n",
        "    return X.reshape(n, length*frames, x.shape[1] * x.shape[2]), Y\n",
        "\n",
        "def init_MNIST():\n",
        "\n",
        "    (x_train,y_train), (x_test,y_test) = tf.keras.datasets.mnist.load_data()\n",
        "    Xn, Yn = create_serial_dataset(x_train, y_train, n=100, length=10, frames=5)\n",
        "    X = Xn[:10, :, :]\n",
        "    Y = Yn[:10, :, :]\n",
        "    return X, Y, Xn, Yn"
      ],
      "execution_count": 3,
      "outputs": []
    },
    {
      "cell_type": "code",
      "metadata": {
        "id": "zIUZqCsgYKio"
      },
      "source": [
        "class RNNModel1(tf.keras.Model):\n",
        "    def __init__(self):\n",
        "        super(RNNModel1, self).__init__()\n",
        "        self.Input = (tf.keras.layers.InputLayer(input_shape=(None, 784)))\n",
        "        self.LSTM = tf.keras.layers.LSTM(input_shape=(None, 784),\n",
        "          units=512,\n",
        "          recurrent_dropout=0.2,\n",
        "          return_sequences=True,\n",
        "          # return_state=True\n",
        "        )\n",
        "        self.FCN = tf.keras.layers.Dense(units=10)\n",
        "        return \n",
        "        \n",
        "    def call(self, x):\n",
        "        out = self.Input(x)\n",
        "        out = self.LSTM(x)\n",
        "        out = self.FCN(out)\n",
        "        return out\n",
        "\n",
        "    def get_state(self):\n",
        "        return"
      ],
      "execution_count": 4,
      "outputs": []
    },
    {
      "cell_type": "code",
      "metadata": {
        "id": "7ro8ZWDSeKqR"
      },
      "source": [
        "class PredictiveNet():\n",
        "    def __init__(self):\n",
        "        self.model = tf.keras.Sequential()\n",
        "        self.model.add(tf.keras.layers.InputLayer(input_shape=(None, 784)))\n",
        "        self.model.add(tf.keras.layers.LSTM(\n",
        "          units=512,\n",
        "          recurrent_dropout=0.2,\n",
        "          return_sequences=True,\n",
        "          # return_state=True\n",
        "        ))\n",
        "        self.model.add(tf.keras.layers.Dense(units=10))\n",
        "        self.lastPreactivation = None\n",
        "        return\n",
        "\n",
        "    def printw(self): # Debug log\n",
        "        print(K.mean(self.model.layers[1].weights[0]))\n",
        "        return\n",
        "\n",
        "    def getPreactivation(self, x):\n",
        "        MTemp = K.function([self.model.layers[0].input],\n",
        "                                  [self.model.layers[1].input])\n",
        "        stateVector = MTemp(x)\n",
        "        self.lastPreactivation = stateVector[0]\n",
        "        return self.lastPreactivation\n",
        "\n",
        "    def EnergyCostLoss(self, y_true, y_pred):\n",
        "        error = y_pred - y_true\n",
        "        lambda1 = 0.5\n",
        "        lambda2 = 0.0\n",
        "        lambda3 = 0.0\n",
        "        # preact = self.lastPreactivation\n",
        "        return K.mean(K.square(error) + lambda1*K.mean(K.abs(y_pred))) + lambda2*K.mean(K.abs(self.model.layers[0].weights[0])) + lambda3*K.mean(K.abs(self.model.layers[1].weights[0]))"
      ],
      "execution_count": 21,
      "outputs": []
    },
    {
      "cell_type": "code",
      "metadata": {
        "colab": {
          "base_uri": "https://localhost:8080/"
        },
        "id": "5iTIYNPGZCOp",
        "outputId": "80c4c6dd-bb6f-4eb3-dddd-40f07d0826f5"
      },
      "source": [
        "X, Y, Xn, Yn = init_MNIST()\n",
        "Net1 = PredictiveNet()\n",
        "# a = model.predict(Xn[1:2, :, :])\n",
        "Net1.model.compile(\n",
        "  loss=Net1.EnergyCostLoss,\n",
        "  optimizer=tf.keras.optimizers.Adam(learning_rate=0.003)\n",
        ")\n",
        "Net1.model.summary()\n",
        "\n",
        "Net1.printw()\n"
      ],
      "execution_count": 22,
      "outputs": [
        {
          "output_type": "stream",
          "text": [
            "WARNING:tensorflow:Layer lstm_2 will not use cuDNN kernels since it doesn't meet the criteria. It will use a generic GPU kernel as fallback when running on GPU.\n",
            "Model: \"sequential_2\"\n",
            "_________________________________________________________________\n",
            "Layer (type)                 Output Shape              Param #   \n",
            "=================================================================\n",
            "lstm_2 (LSTM)                (None, None, 512)         2656256   \n",
            "_________________________________________________________________\n",
            "dense_2 (Dense)              (None, None, 10)          5130      \n",
            "=================================================================\n",
            "Total params: 2,661,386\n",
            "Trainable params: 2,661,386\n",
            "Non-trainable params: 0\n",
            "_________________________________________________________________\n",
            "tf.Tensor(-0.00010100207, shape=(), dtype=float32)\n"
          ],
          "name": "stdout"
        }
      ]
    },
    {
      "cell_type": "code",
      "metadata": {
        "colab": {
          "base_uri": "https://localhost:8080/"
        },
        "id": "ZIqr5QqRVBEw",
        "outputId": "ffaf0473-566d-4a28-86e1-a06f3f0a708d"
      },
      "source": [
        "history = Net1.model.fit(\n",
        "    x=X, y=Y,\n",
        "    epochs=100,\n",
        "    batch_size=5,\n",
        "    validation_split=0.0,\n",
        "    verbose=1,\n",
        "    shuffle=True\n",
        ")"
      ],
      "execution_count": 23,
      "outputs": [
        {
          "output_type": "stream",
          "text": [
            "Epoch 1/100\n",
            "2/2 [==============================] - 2s 85ms/step - loss: 0.8498\n",
            "Epoch 2/100\n",
            "2/2 [==============================] - 0s 79ms/step - loss: 0.5019\n",
            "Epoch 3/100\n",
            "2/2 [==============================] - 0s 74ms/step - loss: 0.3357\n",
            "Epoch 4/100\n",
            "2/2 [==============================] - 0s 79ms/step - loss: 0.3025\n",
            "Epoch 5/100\n",
            "2/2 [==============================] - 0s 78ms/step - loss: 0.2384\n",
            "Epoch 6/100\n",
            "2/2 [==============================] - 0s 77ms/step - loss: 0.2195\n",
            "Epoch 7/100\n",
            "2/2 [==============================] - 0s 74ms/step - loss: 0.2034\n",
            "Epoch 8/100\n",
            "2/2 [==============================] - 0s 71ms/step - loss: 0.1836\n",
            "Epoch 9/100\n",
            "2/2 [==============================] - 0s 73ms/step - loss: 0.1705\n",
            "Epoch 10/100\n",
            "2/2 [==============================] - 0s 68ms/step - loss: 0.1594\n",
            "Epoch 11/100\n",
            "2/2 [==============================] - 0s 83ms/step - loss: 0.1549\n",
            "Epoch 12/100\n",
            "2/2 [==============================] - 0s 75ms/step - loss: 0.1495\n",
            "Epoch 13/100\n",
            "2/2 [==============================] - 0s 76ms/step - loss: 0.1427\n",
            "Epoch 14/100\n",
            "2/2 [==============================] - 0s 66ms/step - loss: 0.1362\n",
            "Epoch 15/100\n",
            "2/2 [==============================] - 0s 74ms/step - loss: 0.1301\n",
            "Epoch 16/100\n",
            "2/2 [==============================] - 0s 70ms/step - loss: 0.1253\n",
            "Epoch 17/100\n",
            "2/2 [==============================] - 0s 74ms/step - loss: 0.1180\n",
            "Epoch 18/100\n",
            "2/2 [==============================] - 0s 73ms/step - loss: 0.1159\n",
            "Epoch 19/100\n",
            "2/2 [==============================] - 0s 76ms/step - loss: 0.1114\n",
            "Epoch 20/100\n",
            "2/2 [==============================] - 0s 72ms/step - loss: 0.1084\n",
            "Epoch 21/100\n",
            "2/2 [==============================] - 0s 71ms/step - loss: 0.1046\n",
            "Epoch 22/100\n",
            "2/2 [==============================] - 0s 70ms/step - loss: 0.1034\n",
            "Epoch 23/100\n",
            "2/2 [==============================] - 0s 73ms/step - loss: 0.1030\n",
            "Epoch 24/100\n",
            "2/2 [==============================] - 0s 72ms/step - loss: 0.1018\n",
            "Epoch 25/100\n",
            "2/2 [==============================] - 0s 75ms/step - loss: 0.0992\n",
            "Epoch 26/100\n",
            "2/2 [==============================] - 0s 73ms/step - loss: 0.0981\n",
            "Epoch 27/100\n",
            "2/2 [==============================] - 0s 70ms/step - loss: 0.0966\n",
            "Epoch 28/100\n",
            "2/2 [==============================] - 0s 71ms/step - loss: 0.0942\n",
            "Epoch 29/100\n",
            "2/2 [==============================] - 0s 72ms/step - loss: 0.0909\n",
            "Epoch 30/100\n",
            "2/2 [==============================] - 0s 71ms/step - loss: 0.0895\n",
            "Epoch 31/100\n",
            "2/2 [==============================] - 0s 73ms/step - loss: 0.0871\n",
            "Epoch 32/100\n",
            "2/2 [==============================] - 0s 69ms/step - loss: 0.0846\n",
            "Epoch 33/100\n",
            "2/2 [==============================] - 0s 74ms/step - loss: 0.0850\n",
            "Epoch 34/100\n",
            "2/2 [==============================] - 0s 67ms/step - loss: 0.0835\n",
            "Epoch 35/100\n",
            "2/2 [==============================] - 0s 68ms/step - loss: 0.0836\n",
            "Epoch 36/100\n",
            "2/2 [==============================] - 0s 67ms/step - loss: 0.0819\n",
            "Epoch 37/100\n",
            "2/2 [==============================] - 0s 69ms/step - loss: 0.0809\n",
            "Epoch 38/100\n",
            "2/2 [==============================] - 0s 67ms/step - loss: 0.0803\n",
            "Epoch 39/100\n",
            "2/2 [==============================] - 0s 114ms/step - loss: 0.0791\n",
            "Epoch 40/100\n",
            "2/2 [==============================] - 0s 73ms/step - loss: 0.0778\n",
            "Epoch 41/100\n",
            "2/2 [==============================] - 0s 67ms/step - loss: 0.0766\n",
            "Epoch 42/100\n",
            "2/2 [==============================] - 0s 65ms/step - loss: 0.0755\n",
            "Epoch 43/100\n",
            "2/2 [==============================] - 0s 74ms/step - loss: 0.0744\n",
            "Epoch 44/100\n",
            "2/2 [==============================] - 0s 76ms/step - loss: 0.0732\n",
            "Epoch 45/100\n",
            "2/2 [==============================] - 0s 69ms/step - loss: 0.0724\n",
            "Epoch 46/100\n",
            "2/2 [==============================] - 0s 69ms/step - loss: 0.0715\n",
            "Epoch 47/100\n",
            "2/2 [==============================] - 0s 75ms/step - loss: 0.0702\n",
            "Epoch 48/100\n",
            "2/2 [==============================] - 0s 67ms/step - loss: 0.0698\n",
            "Epoch 49/100\n",
            "2/2 [==============================] - 0s 74ms/step - loss: 0.0684\n",
            "Epoch 50/100\n",
            "2/2 [==============================] - 0s 68ms/step - loss: 0.0682\n",
            "Epoch 51/100\n",
            "2/2 [==============================] - 0s 67ms/step - loss: 0.0681\n",
            "Epoch 52/100\n",
            "2/2 [==============================] - 0s 68ms/step - loss: 0.0681\n",
            "Epoch 53/100\n",
            "2/2 [==============================] - 0s 75ms/step - loss: 0.0668\n",
            "Epoch 54/100\n",
            "2/2 [==============================] - 0s 75ms/step - loss: 0.0675\n",
            "Epoch 55/100\n",
            "2/2 [==============================] - 0s 69ms/step - loss: 0.0673\n",
            "Epoch 56/100\n",
            "2/2 [==============================] - 0s 70ms/step - loss: 0.0665\n",
            "Epoch 57/100\n",
            "2/2 [==============================] - 0s 69ms/step - loss: 0.0657\n",
            "Epoch 58/100\n",
            "2/2 [==============================] - 0s 70ms/step - loss: 0.0648\n",
            "Epoch 59/100\n",
            "2/2 [==============================] - 0s 71ms/step - loss: 0.0650\n",
            "Epoch 60/100\n",
            "2/2 [==============================] - 0s 72ms/step - loss: 0.0645\n",
            "Epoch 61/100\n",
            "2/2 [==============================] - 0s 71ms/step - loss: 0.0652\n",
            "Epoch 62/100\n",
            "2/2 [==============================] - 0s 70ms/step - loss: 0.0640\n",
            "Epoch 63/100\n",
            "2/2 [==============================] - 0s 70ms/step - loss: 0.0630\n",
            "Epoch 64/100\n",
            "2/2 [==============================] - 0s 68ms/step - loss: 0.0628\n",
            "Epoch 65/100\n",
            "2/2 [==============================] - 0s 66ms/step - loss: 0.0622\n",
            "Epoch 66/100\n",
            "2/2 [==============================] - 0s 66ms/step - loss: 0.0623\n",
            "Epoch 67/100\n",
            "2/2 [==============================] - 0s 69ms/step - loss: 0.0626\n",
            "Epoch 68/100\n",
            "2/2 [==============================] - 0s 75ms/step - loss: 0.0623\n",
            "Epoch 69/100\n",
            "2/2 [==============================] - 0s 72ms/step - loss: 0.0609\n",
            "Epoch 70/100\n",
            "2/2 [==============================] - 0s 67ms/step - loss: 0.0607\n",
            "Epoch 71/100\n",
            "2/2 [==============================] - 0s 67ms/step - loss: 0.0609\n",
            "Epoch 72/100\n",
            "2/2 [==============================] - 0s 70ms/step - loss: 0.0614\n",
            "Epoch 73/100\n",
            "2/2 [==============================] - 0s 73ms/step - loss: 0.0623\n",
            "Epoch 74/100\n",
            "2/2 [==============================] - 0s 71ms/step - loss: 0.0616\n",
            "Epoch 75/100\n",
            "2/2 [==============================] - 0s 76ms/step - loss: 0.0611\n",
            "Epoch 76/100\n",
            "2/2 [==============================] - 0s 71ms/step - loss: 0.0603\n",
            "Epoch 77/100\n",
            "2/2 [==============================] - 0s 74ms/step - loss: 0.0609\n",
            "Epoch 78/100\n",
            "2/2 [==============================] - 0s 73ms/step - loss: 0.0603\n",
            "Epoch 79/100\n",
            "2/2 [==============================] - 0s 77ms/step - loss: 0.0597\n",
            "Epoch 80/100\n",
            "2/2 [==============================] - 0s 70ms/step - loss: 0.0596\n",
            "Epoch 81/100\n",
            "2/2 [==============================] - 0s 70ms/step - loss: 0.0596\n",
            "Epoch 82/100\n",
            "2/2 [==============================] - 0s 68ms/step - loss: 0.0600\n",
            "Epoch 83/100\n",
            "2/2 [==============================] - 0s 66ms/step - loss: 0.0600\n",
            "Epoch 84/100\n",
            "2/2 [==============================] - 0s 72ms/step - loss: 0.0597\n",
            "Epoch 85/100\n",
            "2/2 [==============================] - 0s 66ms/step - loss: 0.0586\n",
            "Epoch 86/100\n",
            "2/2 [==============================] - 0s 74ms/step - loss: 0.0587\n",
            "Epoch 87/100\n",
            "2/2 [==============================] - 0s 67ms/step - loss: 0.0591\n",
            "Epoch 88/100\n",
            "2/2 [==============================] - 0s 72ms/step - loss: 0.0592\n",
            "Epoch 89/100\n",
            "2/2 [==============================] - 0s 75ms/step - loss: 0.0592\n",
            "Epoch 90/100\n",
            "2/2 [==============================] - 0s 70ms/step - loss: 0.0608\n",
            "Epoch 91/100\n",
            "2/2 [==============================] - 0s 71ms/step - loss: 0.0621\n",
            "Epoch 92/100\n",
            "2/2 [==============================] - 0s 70ms/step - loss: 0.0615\n",
            "Epoch 93/100\n",
            "2/2 [==============================] - 0s 68ms/step - loss: 0.0603\n",
            "Epoch 94/100\n",
            "2/2 [==============================] - 0s 71ms/step - loss: 0.0596\n",
            "Epoch 95/100\n",
            "2/2 [==============================] - 0s 70ms/step - loss: 0.0599\n",
            "Epoch 96/100\n",
            "2/2 [==============================] - 0s 73ms/step - loss: 0.0602\n",
            "Epoch 97/100\n",
            "2/2 [==============================] - 0s 75ms/step - loss: 0.0607\n",
            "Epoch 98/100\n",
            "2/2 [==============================] - 0s 75ms/step - loss: 0.0597\n",
            "Epoch 99/100\n",
            "2/2 [==============================] - 0s 71ms/step - loss: 0.0596\n",
            "Epoch 100/100\n",
            "2/2 [==============================] - 0s 70ms/step - loss: 0.0586\n"
          ],
          "name": "stdout"
        }
      ]
    },
    {
      "cell_type": "code",
      "metadata": {
        "id": "qAzs21WYVFtI",
        "colab": {
          "base_uri": "https://localhost:8080/"
        },
        "outputId": "f7a0ea46-74cb-48aa-dfaa-ec1e1ab9d882"
      },
      "source": [
        "# Single epoch for test\n",
        "history = Net1.model.fit(\n",
        "    x=X, y=Y,\n",
        "    epochs=1,\n",
        "    batch_size=5,\n",
        "    validation_split=0.0,\n",
        "    verbose=1,\n",
        "    shuffle=True\n",
        ")\n",
        "# history2 = L1.fit(x=X, y=Y, epochs=1, batch_size=5, validation_split=0.0, verbose=1, shuffle=True)"
      ],
      "execution_count": 24,
      "outputs": [
        {
          "output_type": "stream",
          "text": [
            "2/2 [==============================] - 0s 83ms/step - loss: 0.0597\n"
          ],
          "name": "stdout"
        }
      ]
    },
    {
      "cell_type": "code",
      "metadata": {
        "colab": {
          "base_uri": "https://localhost:8080/"
        },
        "id": "1dMlf8hTlL1b",
        "outputId": "63eb5e3b-eaf3-499a-96c6-cc558bd5726f"
      },
      "source": [
        "Net1.getPreactivation(Xn[8:9, :, :]).shape"
      ],
      "execution_count": 25,
      "outputs": [
        {
          "output_type": "execute_result",
          "data": {
            "text/plain": [
              "(1, 50, 512)"
            ]
          },
          "metadata": {
            "tags": []
          },
          "execution_count": 25
        }
      ]
    },
    {
      "cell_type": "code",
      "metadata": {
        "id": "Nv0A7HJFPTAD"
      },
      "source": [
        "means1 = []\n",
        "\n",
        "for k in range(10):\n",
        "    l, r = k, k+1\n",
        "    l_pred = Net1.getPreactivation(Xn[l:r, :, :])\n",
        "    y_pred = Net1.model.predict(Xn[l:r, :, :])\n",
        "\n",
        "    # for i in range(7):\n",
        "        # plt.plot(l_pred[0][0, :, i])\n",
        "    # for i in range(10):\n",
        "    # plt.plot(y_pred[0, :, 6])\n",
        "    # for i in range(0, 100, 10):\n",
        "    #     print(Yn[l:r, i, :])\n",
        "    means1.append(np.mean(np.mean(np.abs(l_pred))))"
      ],
      "execution_count": 33,
      "outputs": []
    },
    {
      "cell_type": "code",
      "metadata": {
        "id": "bvl4w8AcPho3"
      },
      "source": [
        "means2 = []\n",
        "\n",
        "for k in range(10, 50):\n",
        "    l, r = k, k+1\n",
        "    l_pred = Net1.getPreactivation(Xn[l:r, :, :])\n",
        "    y_pred = Net1.model.predict(Xn[l:r, :, :])\n",
        "\n",
        "    # for i in range(7):\n",
        "    #     plt.plot(l_pred[0, i, :])\n",
        "    # for i in range(10):\n",
        "    # plt.plot(y_pred[0, :, 6])\n",
        "    # for i in range(0, 100, 10):\n",
        "    #     print(Yn[l:r, i, :])\n",
        "    means2.append(np.mean(np.mean(np.abs(l_pred))))"
      ],
      "execution_count": 34,
      "outputs": []
    },
    {
      "cell_type": "code",
      "metadata": {
        "colab": {
          "base_uri": "https://localhost:8080/"
        },
        "id": "kDjwIPy5RDRf",
        "outputId": "ab411df4-d510-49c6-c998-9ccaac238bd0"
      },
      "source": [
        "print(np.mean(means1), np.mean(means2))"
      ],
      "execution_count": 35,
      "outputs": [
        {
          "output_type": "stream",
          "text": [
            "0.16203707 0.16057341\n"
          ],
          "name": "stdout"
        }
      ]
    },
    {
      "cell_type": "markdown",
      "metadata": {
        "id": "RFbo2uU3hQfJ"
      },
      "source": [
        "## Lesioning the network\n",
        "\n",
        "\n"
      ]
    },
    {
      "cell_type": "code",
      "metadata": {
        "id": "OX_tEwkohTzn"
      },
      "source": [
        "w = Net1.model.get_weights()\n",
        "for i in range(len(w)):\n",
        "    w[i] += (np.random.rand(*w[i].shape)-0.5)*0.01\n",
        "Net1.model.set_weights(w)"
      ],
      "execution_count": 36,
      "outputs": []
    },
    {
      "cell_type": "code",
      "metadata": {
        "id": "5nFimIkWRO0g"
      },
      "source": [
        "means1 = []\n",
        "\n",
        "for k in range(10):\n",
        "    l, r = k, k+1\n",
        "    l_pred = Net1.getPreactivation(Xn[l:r, :, :])[0]\n",
        "    y_pred = Net1.model.predict(Xn[l:r, :, :])\n",
        "\n",
        "    # for i in range(7):\n",
        "        # plt.plot(l_pred[0][0, :, i])\n",
        "    # for i in range(10):\n",
        "    # plt.plot(y_pred[0, :, 6])\n",
        "    # for i in range(0, 100, 10):\n",
        "    #     print(Yn[l:r, i, :])\n",
        "    means1.append(np.mean(np.mean(np.abs(l_pred))))"
      ],
      "execution_count": 37,
      "outputs": []
    },
    {
      "cell_type": "code",
      "metadata": {
        "id": "IrNYpR5ricJz"
      },
      "source": [
        "means2 = []\n",
        "\n",
        "for k in range(10, 50):\n",
        "    l, r = k, k+1\n",
        "    l_pred = Net1.getPreactivation(Xn[l:r, :, :])[0]\n",
        "    y_pred = Net1.model.predict(Xn[l:r, :, :])\n",
        "\n",
        "    # for i in range(7):\n",
        "    #     plt.plot(l_pred[0, i, :])\n",
        "    # for i in range(10):\n",
        "    # plt.plot(y_pred[0, :, 6])\n",
        "    # for i in range(0, 100, 10):\n",
        "    #     print(Yn[l:r, i, :])\n",
        "    means2.append(np.mean(np.mean(np.abs(l_pred))))"
      ],
      "execution_count": 38,
      "outputs": []
    },
    {
      "cell_type": "code",
      "metadata": {
        "colab": {
          "base_uri": "https://localhost:8080/"
        },
        "id": "SZqFPv4mifEc",
        "outputId": "462d1e9e-c4a8-4a05-cad9-a4da4d637188"
      },
      "source": [
        "print(np.mean(means1), np.mean(means2))"
      ],
      "execution_count": 39,
      "outputs": [
        {
          "output_type": "stream",
          "text": [
            "0.1618293 0.16031091\n"
          ],
          "name": "stdout"
        }
      ]
    },
    {
      "cell_type": "code",
      "metadata": {
        "id": "XPA9gwQbpDkH"
      },
      "source": [
        ""
      ],
      "execution_count": 32,
      "outputs": []
    }
  ]
}