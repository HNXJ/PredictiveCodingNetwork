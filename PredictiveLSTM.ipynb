{
  "nbformat": 4,
  "nbformat_minor": 0,
  "metadata": {
    "colab": {
      "name": "PredictiveLSTM.ipynb",
      "provenance": [],
      "collapsed_sections": [],
      "authorship_tag": "ABX9TyNF4b9nO6MKE5ab/9SsL5hq",
      "include_colab_link": true
    },
    "kernelspec": {
      "name": "python3",
      "display_name": "Python 3"
    },
    "language_info": {
      "name": "python"
    },
    "accelerator": "GPU"
  },
  "cells": [
    {
      "cell_type": "markdown",
      "metadata": {
        "id": "view-in-github",
        "colab_type": "text"
      },
      "source": [
        "<a href=\"https://colab.research.google.com/github/HNXJ/PredictiveCodingNetwork/blob/main/PredictiveLSTM.ipynb\" target=\"_parent\"><img src=\"https://colab.research.google.com/assets/colab-badge.svg\" alt=\"Open In Colab\"/></a>"
      ]
    },
    {
      "cell_type": "code",
      "metadata": {
        "colab": {
          "base_uri": "https://localhost:8080/"
        },
        "id": "Nx1wIbKYUJZv",
        "outputId": "2dc83597-b036-46f7-e464-28728dbf084c"
      },
      "source": [
        "from tensorflow.keras import backend as K\n",
        "from matplotlib import pyplot as plt\n",
        "import tensorflow as tf\n",
        "import numpy as np\n",
        "\n",
        "\n",
        "# GPU config if needed\n",
        "device_name = tf.test.gpu_device_name()\n",
        "if device_name != '/device:GPU:0':\n",
        "  print('GPU device not found')\n",
        "print('Found GPU at: {}'.format(device_name))"
      ],
      "execution_count": 113,
      "outputs": [
        {
          "output_type": "stream",
          "text": [
            "Found GPU at: /device:GPU:0\n"
          ],
          "name": "stdout"
        }
      ]
    },
    {
      "cell_type": "markdown",
      "metadata": {
        "id": "yzeiPBSWSqzf"
      },
      "source": [
        "# Recurrent neural network based on predictive coding properties\n",
        "\n",
        "In this simulation, we will use task of [Abdullahi et. al 2020] by increasing temporal resolution from one image per step to 10 iterations for each input."
      ]
    },
    {
      "cell_type": "code",
      "metadata": {
        "id": "D9gapZk0XZd5"
      },
      "source": [
        "# TB\n",
        "# dir(tf.keras.layers.LSTM)"
      ],
      "execution_count": 114,
      "outputs": []
    },
    {
      "cell_type": "code",
      "metadata": {
        "id": "pqPCOuRhVWR6"
      },
      "source": [
        "def create_serial_dataset(x=None, y=None, n=100, length=10, frames=10):\n",
        "\n",
        "    X = np.zeros([n, length*frames, x.shape[1], x.shape[2]])\n",
        "    Y = np.zeros([n, length*frames, 10])\n",
        "\n",
        "    for i in range(n):\n",
        "\n",
        "        k = np.random.randint(0, 1000, size=(length))\n",
        "        for j in range(length):\n",
        "          \n",
        "            X[i, j*frames:j*frames+frames, :, :] = x[k[j], :, :]\n",
        "            Y[i, j*frames:j*frames+frames, y[k[j]]] = 1\n",
        "          \n",
        "    return X.reshape(n, length*frames, x.shape[1] * x.shape[2]), Y\n",
        "\n",
        "def init_MNIST():\n",
        "\n",
        "    (x_train,y_train), (x_test,y_test) = tf.keras.datasets.mnist.load_data()\n",
        "    Xn, Yn = create_serial_dataset(x_train, y_train, n=100, length=10, frames=10)\n",
        "    Xn /= 255.0\n",
        "    Yn /= 255.0\n",
        "    X = Xn[:10, :, :]\n",
        "    Y = Yn[:10, :, :]\n",
        "    return X, Y, Xn, Yn"
      ],
      "execution_count": 115,
      "outputs": []
    },
    {
      "cell_type": "code",
      "metadata": {
        "id": "zIUZqCsgYKio"
      },
      "source": [
        "class RNNModel1(tf.keras.Model):\n",
        "    def __init__(self):\n",
        "        super(RNNModel1, self).__init__()\n",
        "        self.Input = (tf.keras.layers.InputLayer(input_shape=(None, 784)))\n",
        "        self.LSTM = tf.keras.layers.LSTM(input_shape=(None, 784),\n",
        "          units=512,\n",
        "          recurrent_dropout=0.2,\n",
        "          return_sequences=True,\n",
        "          # return_state=True\n",
        "        )\n",
        "        self.FCN = tf.keras.layers.Dense(units=10)\n",
        "        return \n",
        "        \n",
        "    def call(self, x):\n",
        "        out = self.Input(x)\n",
        "        out = self.LSTM(x)\n",
        "        out = self.FCN(out)\n",
        "        return out\n",
        "\n",
        "    def get_state(self):\n",
        "        return"
      ],
      "execution_count": 116,
      "outputs": []
    },
    {
      "cell_type": "code",
      "metadata": {
        "id": "7ro8ZWDSeKqR"
      },
      "source": [
        "class PredictiveNet():\n",
        "    def __init__(self):\n",
        "        self.model = tf.keras.Sequential()\n",
        "        self.model.add(tf.keras.layers.InputLayer(input_shape=(None, 784)))\n",
        "        self.model.add(tf.keras.layers.LSTM(\n",
        "          units=512,\n",
        "          recurrent_dropout=0.2,\n",
        "          return_sequences=True,\n",
        "          # return_state=True\n",
        "        ))\n",
        "        self.model.add(tf.keras.layers.Dense(units=10))\n",
        "        self.lastPreactivation = None\n",
        "        return\n",
        "\n",
        "    def printw(self): # Debug log\n",
        "        print(K.mean(self.model.layers[1].weights[0]))\n",
        "        return\n",
        "\n",
        "    def getPreactivation(self, x):\n",
        "        MTemp = K.function([self.model.layers[0].input],\n",
        "                                  [self.model.layers[1].input])\n",
        "        stateVector = MTemp(x)\n",
        "        self.lastPreactivation = stateVector[0]\n",
        "        return self.lastPreactivation\n",
        "\n",
        "    def EnergyCostLoss(self, y_true, y_pred):\n",
        "        error = y_pred - y_true\n",
        "        lambda1 = 1.2\n",
        "        lambda2 = 0.0\n",
        "        lambda3 = 0.0\n",
        "        # preact = self.lastPreactivation\n",
        "        return K.mean(K.square(error) + lambda1*K.mean(K.abs(y_pred))) + lambda2*K.mean(K.abs(self.model.layers[0].weights[0])) + lambda3*K.mean(K.abs(self.model.layers[1].weights[0]))"
      ],
      "execution_count": 117,
      "outputs": []
    },
    {
      "cell_type": "code",
      "metadata": {
        "colab": {
          "base_uri": "https://localhost:8080/"
        },
        "id": "5iTIYNPGZCOp",
        "outputId": "b1b7ca20-9088-48e3-c6ac-318623c6c20e"
      },
      "source": [
        "X, Y, Xn, Yn = init_MNIST()\n",
        "Net1 = PredictiveNet()\n",
        "# a = model.predict(Xn[1:2, :, :])\n",
        "Net1.model.compile(\n",
        "  loss=Net1.EnergyCostLoss,\n",
        "  optimizer=tf.keras.optimizers.Adam(learning_rate=0.001)\n",
        ")\n",
        "Net1.model.summary()\n",
        "\n",
        "Net1.printw()\n"
      ],
      "execution_count": 118,
      "outputs": [
        {
          "output_type": "stream",
          "text": [
            "WARNING:tensorflow:Layer lstm_7 will not use cuDNN kernels since it doesn't meet the criteria. It will use a generic GPU kernel as fallback when running on GPU.\n",
            "Model: \"sequential_8\"\n",
            "_________________________________________________________________\n",
            "Layer (type)                 Output Shape              Param #   \n",
            "=================================================================\n",
            "lstm_7 (LSTM)                (None, None, 512)         2656256   \n",
            "_________________________________________________________________\n",
            "dense_7 (Dense)              (None, None, 10)          5130      \n",
            "=================================================================\n",
            "Total params: 2,661,386\n",
            "Trainable params: 2,661,386\n",
            "Non-trainable params: 0\n",
            "_________________________________________________________________\n",
            "tf.Tensor(0.0002055495, shape=(), dtype=float32)\n"
          ],
          "name": "stdout"
        }
      ]
    },
    {
      "cell_type": "code",
      "metadata": {
        "id": "HE5dIE-Yw4L9"
      },
      "source": [
        ""
      ],
      "execution_count": 118,
      "outputs": []
    },
    {
      "cell_type": "code",
      "metadata": {
        "id": "0PEdkEmGKfF5"
      },
      "source": [
        "means1 = []\n",
        "means1a = []\n",
        "\n",
        "for k in range(10):\n",
        "    l, r = k, k+1\n",
        "    l_pred = Net1.getPreactivation(Xn[l:r, :, :])\n",
        "    y_pred = Net1.model.predict(Xn[l:r, :, :])\n",
        "\n",
        "    # for i in range(7):\n",
        "        # plt.plot(l_pred[0][0, :, i])\n",
        "    # for i in range(10):\n",
        "    # plt.plot(y_pred[0, :, 6])\n",
        "    # for i in range(0, 100, 10):\n",
        "    #     print(Yn[l:r, i, :])\n",
        "    means1.append(np.mean(np.mean(l_pred)))\n",
        "    means1a.append(np.mean(np.mean(np.abs(l_pred))))"
      ],
      "execution_count": 119,
      "outputs": []
    },
    {
      "cell_type": "code",
      "metadata": {
        "id": "IBnTEiUpKfGW"
      },
      "source": [
        "means2 = []\n",
        "means2a = []\n",
        "\n",
        "for k in range(10, 30):\n",
        "    l, r = k, k+1\n",
        "    l_pred = Net1.getPreactivation(Xn[l:r, :, :])\n",
        "    y_pred = Net1.model.predict(Xn[l:r, :, :])\n",
        "\n",
        "    # for i in range(7):\n",
        "    #     plt.plot(l_pred[0, i, :])\n",
        "    # for i in range(10):\n",
        "    # plt.plot(y_pred[0, :, 6])\n",
        "    # for i in range(0, 100, 10):\n",
        "    #     print(Yn[l:r, i, :])\n",
        "    means2.append(np.mean(np.mean(l_pred)))\n",
        "    means2a.append(np.mean(np.mean(np.abs(l_pred))))"
      ],
      "execution_count": 120,
      "outputs": []
    },
    {
      "cell_type": "code",
      "metadata": {
        "colab": {
          "base_uri": "https://localhost:8080/"
        },
        "id": "_ISJediqKfGX",
        "outputId": "2110ebcf-419e-47d1-f582-a45b420f474b"
      },
      "source": [
        "print(\"Mean energy on recurrent preactivation (LSTM) on sigmoid activation function before training\")\n",
        "print(np.mean(means1), np.mean(means2), \"(ME)\")\n",
        "print(np.mean(means1a), np.mean(means2a), \"(MAE)\")\n",
        "print(100*np.abs(np.mean(means1)-np.mean(means2))/np.mean(means1), \"(Difference ratio, percentage %)\")\n",
        "print(100*np.abs(np.mean(means1a)-np.mean(means2a))/np.mean(means1a), \"(Difference abs ratio, percentage %)\")"
      ],
      "execution_count": 121,
      "outputs": [
        {
          "output_type": "stream",
          "text": [
            "Mean energy on recurrent preactivation (LSTM) on sigmoid activation function before training\n",
            "0.00097268086 0.0016234837 (ME)\n",
            "0.15223369 0.14708312 (MAE)\n",
            "66.90815910686256 (Difference ratio, percentage %)\n",
            "3.3833322076734764 (Difference abs ratio, percentage %)\n"
          ],
          "name": "stdout"
        }
      ]
    },
    {
      "cell_type": "code",
      "metadata": {
        "colab": {
          "base_uri": "https://localhost:8080/"
        },
        "id": "ZIqr5QqRVBEw",
        "outputId": "12b274db-ba4a-48c0-d29f-e59b98fd931a"
      },
      "source": [
        "history = Net1.model.fit(\n",
        "    x=X, y=Y,\n",
        "    epochs=100,\n",
        "    batch_size=5,\n",
        "    validation_split=0.0,\n",
        "    verbose=1,\n",
        "    shuffle=True\n",
        ")"
      ],
      "execution_count": 122,
      "outputs": [
        {
          "output_type": "stream",
          "text": [
            "Epoch 1/100\n",
            "2/2 [==============================] - 3s 333ms/step - loss: 1.1265\n",
            "Epoch 2/100\n",
            "2/2 [==============================] - 1s 300ms/step - loss: 0.4551\n",
            "Epoch 3/100\n",
            "2/2 [==============================] - 1s 307ms/step - loss: 0.3260\n",
            "Epoch 4/100\n",
            "2/2 [==============================] - 1s 312ms/step - loss: 0.2924\n",
            "Epoch 5/100\n",
            "2/2 [==============================] - 1s 306ms/step - loss: 0.1181\n",
            "Epoch 6/100\n",
            "2/2 [==============================] - 1s 302ms/step - loss: 0.0895\n",
            "Epoch 7/100\n",
            "2/2 [==============================] - 1s 301ms/step - loss: 0.1078\n",
            "Epoch 8/100\n",
            "2/2 [==============================] - 1s 303ms/step - loss: 0.0888\n",
            "Epoch 9/100\n",
            "2/2 [==============================] - 1s 305ms/step - loss: 0.0518\n",
            "Epoch 10/100\n",
            "2/2 [==============================] - 1s 301ms/step - loss: 0.0386\n",
            "Epoch 11/100\n",
            "2/2 [==============================] - 1s 302ms/step - loss: 0.0485\n",
            "Epoch 12/100\n",
            "2/2 [==============================] - 1s 304ms/step - loss: 0.0444\n",
            "Epoch 13/100\n",
            "2/2 [==============================] - 1s 304ms/step - loss: 0.0334\n",
            "Epoch 14/100\n",
            "2/2 [==============================] - 1s 305ms/step - loss: 0.0230\n",
            "Epoch 15/100\n",
            "2/2 [==============================] - 1s 304ms/step - loss: 0.0235\n",
            "Epoch 16/100\n",
            "2/2 [==============================] - 1s 301ms/step - loss: 0.0248\n",
            "Epoch 17/100\n",
            "2/2 [==============================] - 1s 307ms/step - loss: 0.0205\n",
            "Epoch 18/100\n",
            "2/2 [==============================] - 1s 305ms/step - loss: 0.0139\n",
            "Epoch 19/100\n",
            "2/2 [==============================] - 1s 307ms/step - loss: 0.0154\n",
            "Epoch 20/100\n",
            "2/2 [==============================] - 1s 303ms/step - loss: 0.0151\n",
            "Epoch 21/100\n",
            "2/2 [==============================] - 1s 304ms/step - loss: 0.0119\n",
            "Epoch 22/100\n",
            "2/2 [==============================] - 1s 302ms/step - loss: 0.0103\n",
            "Epoch 23/100\n",
            "2/2 [==============================] - 1s 309ms/step - loss: 0.0115\n",
            "Epoch 24/100\n",
            "2/2 [==============================] - 1s 304ms/step - loss: 0.0092\n",
            "Epoch 25/100\n",
            "2/2 [==============================] - 1s 306ms/step - loss: 0.0085\n",
            "Epoch 26/100\n",
            "2/2 [==============================] - 1s 308ms/step - loss: 0.0085\n",
            "Epoch 27/100\n",
            "2/2 [==============================] - 1s 303ms/step - loss: 0.0074\n",
            "Epoch 28/100\n",
            "2/2 [==============================] - 1s 303ms/step - loss: 0.0073\n",
            "Epoch 29/100\n",
            "2/2 [==============================] - 1s 302ms/step - loss: 0.0068\n",
            "Epoch 30/100\n",
            "2/2 [==============================] - 1s 300ms/step - loss: 0.0065\n",
            "Epoch 31/100\n",
            "2/2 [==============================] - 1s 311ms/step - loss: 0.0061\n",
            "Epoch 32/100\n",
            "2/2 [==============================] - 1s 304ms/step - loss: 0.0060\n",
            "Epoch 33/100\n",
            "2/2 [==============================] - 1s 305ms/step - loss: 0.0066\n",
            "Epoch 34/100\n",
            "2/2 [==============================] - 1s 302ms/step - loss: 0.0059\n",
            "Epoch 35/100\n",
            "2/2 [==============================] - 1s 304ms/step - loss: 0.0060\n",
            "Epoch 36/100\n",
            "2/2 [==============================] - 1s 303ms/step - loss: 0.0061\n",
            "Epoch 37/100\n",
            "2/2 [==============================] - 1s 306ms/step - loss: 0.0058\n",
            "Epoch 38/100\n",
            "2/2 [==============================] - 1s 299ms/step - loss: 0.0064\n",
            "Epoch 39/100\n",
            "2/2 [==============================] - 1s 303ms/step - loss: 0.0080\n",
            "Epoch 40/100\n",
            "2/2 [==============================] - 1s 309ms/step - loss: 0.0067\n",
            "Epoch 41/100\n",
            "2/2 [==============================] - 1s 302ms/step - loss: 0.0065\n",
            "Epoch 42/100\n",
            "2/2 [==============================] - 1s 305ms/step - loss: 0.0065\n",
            "Epoch 43/100\n",
            "2/2 [==============================] - 1s 309ms/step - loss: 0.0067\n",
            "Epoch 44/100\n",
            "2/2 [==============================] - 1s 300ms/step - loss: 0.0062\n",
            "Epoch 45/100\n",
            "2/2 [==============================] - 1s 307ms/step - loss: 0.0065\n",
            "Epoch 46/100\n",
            "2/2 [==============================] - 1s 309ms/step - loss: 0.0072\n",
            "Epoch 47/100\n",
            "2/2 [==============================] - 1s 309ms/step - loss: 0.0076\n",
            "Epoch 48/100\n",
            "2/2 [==============================] - 1s 305ms/step - loss: 0.0079\n",
            "Epoch 49/100\n",
            "2/2 [==============================] - 1s 305ms/step - loss: 0.0077\n",
            "Epoch 50/100\n",
            "2/2 [==============================] - 1s 306ms/step - loss: 0.0087\n",
            "Epoch 51/100\n",
            "2/2 [==============================] - 1s 310ms/step - loss: 0.0102\n",
            "Epoch 52/100\n",
            "2/2 [==============================] - 1s 303ms/step - loss: 0.0092\n",
            "Epoch 53/100\n",
            "2/2 [==============================] - 1s 298ms/step - loss: 0.0097\n",
            "Epoch 54/100\n",
            "2/2 [==============================] - 1s 297ms/step - loss: 0.0100\n",
            "Epoch 55/100\n",
            "2/2 [==============================] - 1s 309ms/step - loss: 0.0077\n",
            "Epoch 56/100\n",
            "2/2 [==============================] - 1s 309ms/step - loss: 0.0087\n",
            "Epoch 57/100\n",
            "2/2 [==============================] - 1s 303ms/step - loss: 0.0088\n",
            "Epoch 58/100\n",
            "2/2 [==============================] - 1s 303ms/step - loss: 0.0073\n",
            "Epoch 59/100\n",
            "2/2 [==============================] - 1s 305ms/step - loss: 0.0075\n",
            "Epoch 60/100\n",
            "2/2 [==============================] - 1s 307ms/step - loss: 0.0074\n",
            "Epoch 61/100\n",
            "2/2 [==============================] - 1s 305ms/step - loss: 0.0072\n",
            "Epoch 62/100\n",
            "2/2 [==============================] - 1s 305ms/step - loss: 0.0075\n",
            "Epoch 63/100\n",
            "2/2 [==============================] - 1s 307ms/step - loss: 0.0080\n",
            "Epoch 64/100\n",
            "2/2 [==============================] - 1s 299ms/step - loss: 0.0070\n",
            "Epoch 65/100\n",
            "2/2 [==============================] - 1s 309ms/step - loss: 0.0073\n",
            "Epoch 66/100\n",
            "2/2 [==============================] - 1s 306ms/step - loss: 0.0063\n",
            "Epoch 67/100\n",
            "2/2 [==============================] - 1s 305ms/step - loss: 0.0053\n",
            "Epoch 68/100\n",
            "2/2 [==============================] - 1s 303ms/step - loss: 0.0057\n",
            "Epoch 69/100\n",
            "2/2 [==============================] - 1s 305ms/step - loss: 0.0058\n",
            "Epoch 70/100\n",
            "2/2 [==============================] - 1s 305ms/step - loss: 0.0060\n",
            "Epoch 71/100\n",
            "2/2 [==============================] - 1s 300ms/step - loss: 0.0074\n",
            "Epoch 72/100\n",
            "2/2 [==============================] - 1s 302ms/step - loss: 0.0055\n",
            "Epoch 73/100\n",
            "2/2 [==============================] - 1s 310ms/step - loss: 0.0045\n",
            "Epoch 74/100\n",
            "2/2 [==============================] - 1s 304ms/step - loss: 0.0046\n",
            "Epoch 75/100\n",
            "2/2 [==============================] - 1s 306ms/step - loss: 0.0044\n",
            "Epoch 76/100\n",
            "2/2 [==============================] - 1s 302ms/step - loss: 0.0046\n",
            "Epoch 77/100\n",
            "2/2 [==============================] - 1s 306ms/step - loss: 0.0054\n",
            "Epoch 78/100\n",
            "2/2 [==============================] - 1s 306ms/step - loss: 0.0053\n",
            "Epoch 79/100\n",
            "2/2 [==============================] - 1s 313ms/step - loss: 0.0047\n",
            "Epoch 80/100\n",
            "2/2 [==============================] - 1s 307ms/step - loss: 0.0042\n",
            "Epoch 81/100\n",
            "2/2 [==============================] - 1s 307ms/step - loss: 0.0046\n",
            "Epoch 82/100\n",
            "2/2 [==============================] - 1s 307ms/step - loss: 0.0045\n",
            "Epoch 83/100\n",
            "2/2 [==============================] - 1s 305ms/step - loss: 0.0047\n",
            "Epoch 84/100\n",
            "2/2 [==============================] - 1s 304ms/step - loss: 0.0058\n",
            "Epoch 85/100\n",
            "2/2 [==============================] - 1s 305ms/step - loss: 0.0049\n",
            "Epoch 86/100\n",
            "2/2 [==============================] - 1s 305ms/step - loss: 0.0058\n",
            "Epoch 87/100\n",
            "2/2 [==============================] - 1s 310ms/step - loss: 0.0061\n",
            "Epoch 88/100\n",
            "2/2 [==============================] - 1s 309ms/step - loss: 0.0051\n",
            "Epoch 89/100\n",
            "2/2 [==============================] - 1s 309ms/step - loss: 0.0054\n",
            "Epoch 90/100\n",
            "2/2 [==============================] - 1s 303ms/step - loss: 0.0048\n",
            "Epoch 91/100\n",
            "2/2 [==============================] - 1s 310ms/step - loss: 0.0057\n",
            "Epoch 92/100\n",
            "2/2 [==============================] - 1s 305ms/step - loss: 0.0051\n",
            "Epoch 93/100\n",
            "2/2 [==============================] - 1s 309ms/step - loss: 0.0047\n",
            "Epoch 94/100\n",
            "2/2 [==============================] - 1s 305ms/step - loss: 0.0046\n",
            "Epoch 95/100\n",
            "2/2 [==============================] - 1s 307ms/step - loss: 0.0044\n",
            "Epoch 96/100\n",
            "2/2 [==============================] - 1s 302ms/step - loss: 0.0044\n",
            "Epoch 97/100\n",
            "2/2 [==============================] - 1s 303ms/step - loss: 0.0046\n",
            "Epoch 98/100\n",
            "2/2 [==============================] - 1s 302ms/step - loss: 0.0048\n",
            "Epoch 99/100\n",
            "2/2 [==============================] - 1s 306ms/step - loss: 0.0047\n",
            "Epoch 100/100\n",
            "2/2 [==============================] - 1s 298ms/step - loss: 0.0048\n"
          ],
          "name": "stdout"
        }
      ]
    },
    {
      "cell_type": "code",
      "metadata": {
        "id": "qAzs21WYVFtI",
        "colab": {
          "base_uri": "https://localhost:8080/"
        },
        "outputId": "f41ff7b1-2c80-4fda-ddf6-5e3be11b7aea"
      },
      "source": [
        "# Single epoch for test\n",
        "history = Net1.model.fit(\n",
        "    x=X, y=Y,\n",
        "    epochs=1,\n",
        "    batch_size=5,\n",
        "    validation_split=0.0,\n",
        "    verbose=1,\n",
        "    shuffle=True\n",
        ")\n",
        "# history2 = L1.fit(x=X, y=Y, epochs=1, batch_size=5, validation_split=0.0, verbose=1, shuffle=True)"
      ],
      "execution_count": 123,
      "outputs": [
        {
          "output_type": "stream",
          "text": [
            "2/2 [==============================] - 1s 344ms/step - loss: 0.0051\n"
          ],
          "name": "stdout"
        }
      ]
    },
    {
      "cell_type": "code",
      "metadata": {
        "colab": {
          "base_uri": "https://localhost:8080/"
        },
        "id": "1dMlf8hTlL1b",
        "outputId": "1d83d151-225c-42e6-dfc3-0c830a6e70bb"
      },
      "source": [
        "Net1.getPreactivation(Xn[8:9, :, :]).shape"
      ],
      "execution_count": 124,
      "outputs": [
        {
          "output_type": "execute_result",
          "data": {
            "text/plain": [
              "(1, 100, 512)"
            ]
          },
          "metadata": {
            "tags": []
          },
          "execution_count": 124
        }
      ]
    },
    {
      "cell_type": "code",
      "metadata": {
        "id": "Nv0A7HJFPTAD"
      },
      "source": [
        "means1 = []\n",
        "means1a = []\n",
        "\n",
        "for k in range(10):\n",
        "    l, r = k, k+1\n",
        "    l_pred = Net1.getPreactivation(Xn[l:r, :, :])\n",
        "    y_pred = Net1.model.predict(Xn[l:r, :, :])\n",
        "\n",
        "    # for i in range(7):\n",
        "        # plt.plot(l_pred[0][0, :, i])\n",
        "    # for i in range(10):\n",
        "    # plt.plot(y_pred[0, :, 6])\n",
        "    # for i in range(0, 100, 10):\n",
        "    #     print(Yn[l:r, i, :])\n",
        "    means1.append(np.mean(np.mean(l_pred)))\n",
        "    means1a.append(np.mean(np.mean(np.abs(l_pred))))"
      ],
      "execution_count": 125,
      "outputs": []
    },
    {
      "cell_type": "code",
      "metadata": {
        "id": "bvl4w8AcPho3"
      },
      "source": [
        "means2 = []\n",
        "means2a = []\n",
        "\n",
        "for k in range(10, 30):\n",
        "    l, r = k, k+1\n",
        "    l_pred = Net1.getPreactivation(Xn[l:r, :, :])\n",
        "    y_pred = Net1.model.predict(Xn[l:r, :, :])\n",
        "\n",
        "    # for i in range(7):\n",
        "    #     plt.plot(l_pred[0, i, :])\n",
        "    # for i in range(10):\n",
        "    # plt.plot(y_pred[0, :, 6])\n",
        "    # for i in range(0, 100, 10):\n",
        "    #     print(Yn[l:r, i, :])\n",
        "    means2.append(np.mean(np.mean(l_pred)))\n",
        "    means2a.append(np.mean(np.mean(np.abs(l_pred))))"
      ],
      "execution_count": 126,
      "outputs": []
    },
    {
      "cell_type": "code",
      "metadata": {
        "colab": {
          "base_uri": "https://localhost:8080/"
        },
        "id": "kDjwIPy5RDRf",
        "outputId": "1b2b610f-299f-4790-aa01-b08f13d50cf1"
      },
      "source": [
        "print(\"Mean energy on recurrent preactivation (LSTM) on sigmoid activation function after training\")\n",
        "print(np.mean(means1), np.mean(means2), \"(ME)\")\n",
        "print(np.mean(means1a), np.mean(means2a), \"(MAE)\")\n",
        "print(100*np.abs(np.mean(means1)-np.mean(means2))/np.mean(means1), \"(Difference ratio, percentage %)\")\n",
        "print(100*np.abs(np.mean(means1a)-np.mean(means2a))/np.mean(means1a), \"(Difference abs ratio, percentage %)\")"
      ],
      "execution_count": 127,
      "outputs": [
        {
          "output_type": "stream",
          "text": [
            "Mean energy on recurrent preactivation (LSTM) on sigmoid activation function after training\n",
            "0.0004226238 0.0005489433 (ME)\n",
            "0.021469388 0.023349274 (MAE)\n",
            "29.889349004076305 (Difference ratio, percentage %)\n",
            "8.756121874427938 (Difference abs ratio, percentage %)\n"
          ],
          "name": "stdout"
        }
      ]
    },
    {
      "cell_type": "markdown",
      "metadata": {
        "id": "RFbo2uU3hQfJ"
      },
      "source": [
        "## Lesioning the network\n",
        "\n",
        "In this section, we've lesioned the RNN via adding a gaussian noise with mean=0 and STD=0.1 to all weights of the network as a simulation of simple lesioning.\n"
      ]
    },
    {
      "cell_type": "code",
      "metadata": {
        "id": "OX_tEwkohTzn"
      },
      "source": [
        "Net2 = Net1\n",
        "w = Net2.model.get_weights()\n",
        "for i in range(2, len(w)):\n",
        "    w[i] += (np.random.randn(*w[i].shape))*(np.std(w[i])*2)\n",
        "Net2.model.set_weights(w)"
      ],
      "execution_count": 128,
      "outputs": []
    },
    {
      "cell_type": "code",
      "metadata": {
        "colab": {
          "base_uri": "https://localhost:8080/"
        },
        "id": "yfYNWruWnms-",
        "outputId": "21224837-c8cd-407d-f0fa-1641f1fcfad9"
      },
      "source": [
        "# Single epoch for test\n",
        "history = Net2.model.fit(\n",
        "    x=X, y=Y,\n",
        "    epochs=1,\n",
        "    batch_size=5,\n",
        "    validation_split=0.0,\n",
        "    verbose=1,\n",
        "    shuffle=True\n",
        ")\n",
        "# history2 = L1.fit(x=X, y=Y, epochs=1, batch_size=5, validation_split=0.0, verbose=1, shuffle=True)"
      ],
      "execution_count": 129,
      "outputs": [
        {
          "output_type": "stream",
          "text": [
            "2/2 [==============================] - 1s 309ms/step - loss: 0.2565\n"
          ],
          "name": "stdout"
        }
      ]
    },
    {
      "cell_type": "code",
      "metadata": {
        "id": "5nFimIkWRO0g"
      },
      "source": [
        "means1 = []\n",
        "means1a = []\n",
        "\n",
        "for k in range(10):\n",
        "    l, r = k, k+1\n",
        "    l_pred = Net2.getPreactivation(Xn[l:r, :, :])\n",
        "    y_pred = Net2.model.predict(Xn[l:r, :, :])\n",
        "\n",
        "    # for i in range(7):\n",
        "        # plt.plot(l_pred[0][0, :, i])\n",
        "    # for i in range(10):\n",
        "    # plt.plot(y_pred[0, :, 6])\n",
        "    # for i in range(0, 100, 10):\n",
        "    #     print(Yn[l:r, i, :])\n",
        "    means1.append(np.mean(np.mean(l_pred)))\n",
        "    means1a.append(np.mean(np.mean(np.abs(l_pred))))"
      ],
      "execution_count": 130,
      "outputs": []
    },
    {
      "cell_type": "code",
      "metadata": {
        "id": "IrNYpR5ricJz"
      },
      "source": [
        "means2 = []\n",
        "means2a = []\n",
        "\n",
        "for k in range(10, 30):\n",
        "    l, r = k, k+1\n",
        "    l_pred = Net2.getPreactivation(Xn[l:r, :, :])\n",
        "    y_pred = Net2.model.predict(Xn[l:r, :, :])\n",
        "\n",
        "    # for i in range(7):\n",
        "    #     plt.plot(l_pred[0, i, :])\n",
        "    # for i in range(10):\n",
        "    # plt.plot(y_pred[0, :, 6])\n",
        "    # for i in range(0, 100, 10):\n",
        "    #     print(Yn[l:r, i, :])\n",
        "    means2.append(np.mean(np.mean(l_pred)))\n",
        "    means2a.append(np.mean(np.mean(np.abs(l_pred))))"
      ],
      "execution_count": 131,
      "outputs": []
    },
    {
      "cell_type": "code",
      "metadata": {
        "colab": {
          "base_uri": "https://localhost:8080/"
        },
        "id": "SZqFPv4mifEc",
        "outputId": "8b1daab3-5bf9-4363-dd1f-5e5726b04a87"
      },
      "source": [
        "print(\"Mean energy on recurrent preactivation (LSTM) on sigmoid activation function after lesioning\")\n",
        "print(np.mean(means1), np.mean(means2), \"(ME)\")\n",
        "print(np.mean(means1a), np.mean(means2a), \"(MAE)\")\n",
        "print(100*np.abs(np.mean(means1)-np.mean(means2))/np.mean(means1), \"(Difference ratio, percentage %)\")\n",
        "print(100*np.abs(np.mean(means1a)-np.mean(means2a))/np.mean(means1a), \"(Difference abs ratio, percentage %)\")"
      ],
      "execution_count": 132,
      "outputs": [
        {
          "output_type": "stream",
          "text": [
            "Mean energy on recurrent preactivation (LSTM) on sigmoid activation function after lesioning\n",
            "0.0025135516 0.0030835296 (ME)\n",
            "0.07883092 0.08794949 (MAE)\n",
            "22.6762015194678 (Difference ratio, percentage %)\n",
            "11.567252873609933 (Difference abs ratio, percentage %)\n"
          ],
          "name": "stdout"
        }
      ]
    },
    {
      "cell_type": "code",
      "metadata": {
        "id": "XPA9gwQbpDkH"
      },
      "source": [
        ""
      ],
      "execution_count": 132,
      "outputs": []
    }
  ]
}