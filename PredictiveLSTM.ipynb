{
  "nbformat": 4,
  "nbformat_minor": 0,
  "metadata": {
    "colab": {
      "name": "PredictiveLSTM.ipynb",
      "provenance": [],
      "collapsed_sections": [],
      "authorship_tag": "ABX9TyOQYblLWriHnHwN2nNqv0pk",
      "include_colab_link": true
    },
    "kernelspec": {
      "name": "python3",
      "display_name": "Python 3"
    },
    "language_info": {
      "name": "python"
    },
    "accelerator": "GPU"
  },
  "cells": [
    {
      "cell_type": "markdown",
      "metadata": {
        "id": "view-in-github",
        "colab_type": "text"
      },
      "source": [
        "<a href=\"https://colab.research.google.com/github/HNXJ/PredictiveCodingNetwork/blob/main/PredictiveLSTM.ipynb\" target=\"_parent\"><img src=\"https://colab.research.google.com/assets/colab-badge.svg\" alt=\"Open In Colab\"/></a>"
      ]
    },
    {
      "cell_type": "code",
      "metadata": {
        "colab": {
          "base_uri": "https://localhost:8080/"
        },
        "id": "Nx1wIbKYUJZv",
        "outputId": "660e7e33-0fdd-4bc5-f0c0-cb60bba45bdf"
      },
      "source": [
        "from tensorflow.keras import backend as K\n",
        "from matplotlib import pyplot as plt\n",
        "import tensorflow as tf\n",
        "import numpy as np\n",
        "\n",
        "\n",
        "# GPU config if needed\n",
        "device_name = tf.test.gpu_device_name()\n",
        "if device_name != '/device:GPU:0':\n",
        "  raise SystemError('GPU device not found')\n",
        "print('Found GPU at: {}'.format(device_name))"
      ],
      "execution_count": 1,
      "outputs": [
        {
          "output_type": "stream",
          "text": [
            "Found GPU at: /device:GPU:0\n"
          ],
          "name": "stdout"
        }
      ]
    },
    {
      "cell_type": "markdown",
      "metadata": {
        "id": "yzeiPBSWSqzf"
      },
      "source": [
        "# Recurrent neural network based on predictive coding properties\n",
        "\n",
        "In this simulation, we will use task of [Abdullahi et. al 2020] by increasing temporal resolution from one image per step to 10 iterations for each input."
      ]
    },
    {
      "cell_type": "code",
      "metadata": {
        "id": "D9gapZk0XZd5"
      },
      "source": [
        "# TB\n",
        "# dir(tf.keras.layers.LSTM)"
      ],
      "execution_count": 2,
      "outputs": []
    },
    {
      "cell_type": "code",
      "metadata": {
        "colab": {
          "base_uri": "https://localhost:8080/"
        },
        "id": "pqPCOuRhVWR6",
        "outputId": "1606ba07-b511-4b30-e8a0-91e79c597fa3"
      },
      "source": [
        "(x_train,y_train),(x_test,y_test) = tf.keras.datasets.mnist.load_data()\n",
        "\n",
        "def create_serial_dataset(x=None, y=None, n=100, length=10, frames=10):\n",
        "\n",
        "    X = np.zeros([n, length*frames, x.shape[1], x.shape[2]])\n",
        "    Y = np.zeros([n, length*frames, 10])\n",
        "\n",
        "    for i in range(n):\n",
        "\n",
        "        k = np.random.randint(0, 1000, size=(length))\n",
        "        for j in range(length):\n",
        "          \n",
        "            X[i, j*frames:j*frames+frames, :, :] = x[k[j], :, :]\n",
        "            Y[i, j*frames:j*frames+frames, y[k[j]]] = 1\n",
        "          \n",
        "    return X.reshape(n, length*frames, x.shape[1] * x.shape[2]), Y\n",
        "\n",
        "Xn, Yn = create_serial_dataset(x_train, y_train, n=100, length=10, frames=20)\n",
        "X = Xn[:10, :, :]\n",
        "Y = Yn[:10, :, :]\n",
        "X.shape, Y.shape"
      ],
      "execution_count": 3,
      "outputs": [
        {
          "output_type": "stream",
          "text": [
            "Downloading data from https://storage.googleapis.com/tensorflow/tf-keras-datasets/mnist.npz\n",
            "11493376/11490434 [==============================] - 0s 0us/step\n"
          ],
          "name": "stdout"
        },
        {
          "output_type": "execute_result",
          "data": {
            "text/plain": [
              "((10, 200, 784), (10, 200, 10))"
            ]
          },
          "metadata": {
            "tags": []
          },
          "execution_count": 3
        }
      ]
    },
    {
      "cell_type": "code",
      "metadata": {
        "id": "zIUZqCsgYKio"
      },
      "source": [
        "class RNNModel1(tf.keras.Model):\n",
        "    def __init__(self):\n",
        "        super(RNNModel1, self).__init__()\n",
        "        self.Input = (tf.keras.layers.InputLayer(input_shape=(None, 784)))\n",
        "        self.LSTM = tf.keras.layers.LSTM(input_shape=(None, 784),\n",
        "          units=512,\n",
        "          recurrent_dropout=0.2,\n",
        "          return_sequences=True,\n",
        "          # return_state=True\n",
        "        )\n",
        "        self.FCN = tf.keras.layers.Dense(units=10)\n",
        "        return \n",
        "        \n",
        "    def call(self, x):\n",
        "        out = self.Input(x)\n",
        "        out = self.LSTM(x)\n",
        "        out = self.FCN(out)\n",
        "        return out\n",
        "\n",
        "    def get_state(self):\n",
        "        return"
      ],
      "execution_count": 7,
      "outputs": []
    },
    {
      "cell_type": "code",
      "metadata": {
        "id": "7ro8ZWDSeKqR"
      },
      "source": [
        "class PredictiveNet():\n",
        "    def __init__(self):\n",
        "        self.model = tf.keras.Sequential()\n",
        "        self.model.add(tf.keras.layers.InputLayer(input_shape=(None, 784)))\n",
        "        self.model.add(tf.keras.layers.LSTM(\n",
        "          units=512,\n",
        "          recurrent_dropout=0.2,\n",
        "          return_sequences=True,\n",
        "          # return_state=True\n",
        "        ))\n",
        "        self.model.add(tf.keras.layers.Dense(units=10))\n",
        "        return\n",
        "\n",
        "    def printw(self): # Debug log\n",
        "        print(K.mean(self.model.layers[1].weights[0]))\n",
        "        return\n",
        "\n",
        "    def EnergyCostLoss(self, y_true, y_pred):\n",
        "        error = y_pred - y_true\n",
        "        lambda1 = 1\n",
        "        lambda2 = 1\n",
        "        return K.mean(K.square(error) + lambda1*K.mean(K.abs(y_pred))) + lambda2*K.mean(K.abs(self.model.layers[1].weights[0]))"
      ],
      "execution_count": 88,
      "outputs": []
    },
    {
      "cell_type": "code",
      "metadata": {
        "colab": {
          "base_uri": "https://localhost:8080/"
        },
        "id": "5iTIYNPGZCOp",
        "outputId": "95120830-eae9-41d3-e67b-a6547e383665"
      },
      "source": [
        "Net1 = PredictiveNet()\n",
        "# a = model.predict(Xn[1:2, :, :])\n",
        "Net1.model.compile(\n",
        "  loss=Net1.EnergyCostLoss,\n",
        "  optimizer=tf.keras.optimizers.Adam(learning_rate=0.003)\n",
        ")\n",
        "Net1.model.summary()\n",
        "\n",
        "Net1.printw()\n",
        "\n",
        "L1 = K.function([Net1.model.layers[0].input],\n",
        "                                  [Net1.model.layers[1].output])"
      ],
      "execution_count": 89,
      "outputs": [
        {
          "output_type": "stream",
          "text": [
            "WARNING:tensorflow:Layer lstm_38 will not use cuDNN kernels since it doesn't meet the criteria. It will use a generic GPU kernel as fallback when running on GPU.\n",
            "Model: \"sequential_32\"\n",
            "_________________________________________________________________\n",
            "Layer (type)                 Output Shape              Param #   \n",
            "=================================================================\n",
            "lstm_38 (LSTM)               (None, None, 512)         2656256   \n",
            "_________________________________________________________________\n",
            "dense_37 (Dense)             (None, None, 10)          5130      \n",
            "=================================================================\n",
            "Total params: 2,661,386\n",
            "Trainable params: 2,661,386\n",
            "Non-trainable params: 0\n",
            "_________________________________________________________________\n",
            "tf.Tensor(-0.0023751305, shape=(), dtype=float32)\n"
          ],
          "name": "stdout"
        }
      ]
    },
    {
      "cell_type": "code",
      "metadata": {
        "colab": {
          "base_uri": "https://localhost:8080/"
        },
        "id": "ZIqr5QqRVBEw",
        "outputId": "ca238223-cb1b-4ddd-8ac2-f50730e7c4cd"
      },
      "source": [
        "history = Net1.model.fit(\n",
        "    x=X, y=Y,\n",
        "    epochs=50,\n",
        "    batch_size=5,\n",
        "    validation_split=0.0,\n",
        "    verbose=1,\n",
        "    shuffle=True\n",
        ")"
      ],
      "execution_count": 90,
      "outputs": [
        {
          "output_type": "stream",
          "text": [
            "Epoch 1/50\n",
            "2/2 [==============================] - 2s 253ms/step - loss: 2.1393\n",
            "Epoch 2/50\n",
            "2/2 [==============================] - 1s 281ms/step - loss: 1.2172\n",
            "Epoch 3/50\n",
            "2/2 [==============================] - 1s 260ms/step - loss: 0.9373\n",
            "Epoch 4/50\n",
            "2/2 [==============================] - 1s 250ms/step - loss: 0.7085\n",
            "Epoch 5/50\n",
            "2/2 [==============================] - 1s 272ms/step - loss: 0.6742\n",
            "Epoch 6/50\n",
            "2/2 [==============================] - 1s 258ms/step - loss: 0.6006\n",
            "Epoch 7/50\n",
            "2/2 [==============================] - 0s 255ms/step - loss: 0.5401\n",
            "Epoch 8/50\n",
            "2/2 [==============================] - 1s 250ms/step - loss: 0.5090\n",
            "Epoch 9/50\n",
            "2/2 [==============================] - 1s 252ms/step - loss: 0.4585\n",
            "Epoch 10/50\n",
            "2/2 [==============================] - 0s 243ms/step - loss: 0.4323\n",
            "Epoch 11/50\n",
            "2/2 [==============================] - 0s 247ms/step - loss: 0.3979\n",
            "Epoch 12/50\n",
            "2/2 [==============================] - 1s 253ms/step - loss: 0.3865\n",
            "Epoch 13/50\n",
            "2/2 [==============================] - 0s 251ms/step - loss: 0.3526\n",
            "Epoch 14/50\n",
            "2/2 [==============================] - 1s 254ms/step - loss: 0.3410\n",
            "Epoch 15/50\n",
            "2/2 [==============================] - 1s 251ms/step - loss: 0.3310\n",
            "Epoch 16/50\n",
            "2/2 [==============================] - 1s 259ms/step - loss: 0.3237\n",
            "Epoch 17/50\n",
            "2/2 [==============================] - 1s 258ms/step - loss: 0.3144\n",
            "Epoch 18/50\n",
            "2/2 [==============================] - 1s 258ms/step - loss: 0.3050\n",
            "Epoch 19/50\n",
            "2/2 [==============================] - 1s 254ms/step - loss: 0.2941\n",
            "Epoch 20/50\n",
            "2/2 [==============================] - 1s 255ms/step - loss: 0.2834\n",
            "Epoch 21/50\n",
            "2/2 [==============================] - 0s 255ms/step - loss: 0.2763\n",
            "Epoch 22/50\n",
            "2/2 [==============================] - 1s 247ms/step - loss: 0.2722\n",
            "Epoch 23/50\n",
            "2/2 [==============================] - 0s 258ms/step - loss: 0.2749\n",
            "Epoch 24/50\n",
            "2/2 [==============================] - 1s 258ms/step - loss: 0.2638\n",
            "Epoch 25/50\n",
            "2/2 [==============================] - 1s 259ms/step - loss: 0.2641\n",
            "Epoch 26/50\n",
            "2/2 [==============================] - 1s 243ms/step - loss: 0.2544\n",
            "Epoch 27/50\n",
            "2/2 [==============================] - 1s 254ms/step - loss: 0.2526\n",
            "Epoch 28/50\n",
            "2/2 [==============================] - 1s 257ms/step - loss: 0.2461\n",
            "Epoch 29/50\n",
            "2/2 [==============================] - 1s 272ms/step - loss: 0.2426\n",
            "Epoch 30/50\n",
            "2/2 [==============================] - 1s 259ms/step - loss: 0.2392\n",
            "Epoch 31/50\n",
            "2/2 [==============================] - 1s 269ms/step - loss: 0.2342\n",
            "Epoch 32/50\n",
            "2/2 [==============================] - 1s 258ms/step - loss: 0.2300\n",
            "Epoch 33/50\n",
            "2/2 [==============================] - 1s 280ms/step - loss: 0.2305\n",
            "Epoch 34/50\n",
            "2/2 [==============================] - 1s 258ms/step - loss: 0.2300\n",
            "Epoch 35/50\n",
            "2/2 [==============================] - 1s 261ms/step - loss: 0.2271\n",
            "Epoch 36/50\n",
            "2/2 [==============================] - 1s 259ms/step - loss: 0.2210\n",
            "Epoch 37/50\n",
            "2/2 [==============================] - 1s 267ms/step - loss: 0.2212\n",
            "Epoch 38/50\n",
            "2/2 [==============================] - 1s 254ms/step - loss: 0.2227\n",
            "Epoch 39/50\n",
            "2/2 [==============================] - 1s 260ms/step - loss: 0.2198\n",
            "Epoch 40/50\n",
            "2/2 [==============================] - 0s 256ms/step - loss: 0.2162\n",
            "Epoch 41/50\n",
            "2/2 [==============================] - 1s 250ms/step - loss: 0.2180\n",
            "Epoch 42/50\n",
            "2/2 [==============================] - 1s 255ms/step - loss: 0.2134\n",
            "Epoch 43/50\n",
            "2/2 [==============================] - 1s 253ms/step - loss: 0.2086\n",
            "Epoch 44/50\n",
            "2/2 [==============================] - 1s 254ms/step - loss: 0.2061\n",
            "Epoch 45/50\n",
            "2/2 [==============================] - 1s 259ms/step - loss: 0.2052\n",
            "Epoch 46/50\n",
            "2/2 [==============================] - 0s 243ms/step - loss: 0.2024\n",
            "Epoch 47/50\n",
            "2/2 [==============================] - 1s 255ms/step - loss: 0.1987\n",
            "Epoch 48/50\n",
            "2/2 [==============================] - 0s 250ms/step - loss: 0.1981\n",
            "Epoch 49/50\n",
            "2/2 [==============================] - 0s 256ms/step - loss: 0.1961\n",
            "Epoch 50/50\n",
            "2/2 [==============================] - 0s 245ms/step - loss: 0.1927\n"
          ],
          "name": "stdout"
        }
      ]
    },
    {
      "cell_type": "code",
      "metadata": {
        "id": "qAzs21WYVFtI",
        "colab": {
          "base_uri": "https://localhost:8080/"
        },
        "outputId": "67a27528-c7e7-4dc4-e9ce-2ecb82bec7fa"
      },
      "source": [
        "# Median layer model\n",
        "history = Net1.model.fit(\n",
        "    x=X, y=Y,\n",
        "    epochs=1,\n",
        "    batch_size=5,\n",
        "    validation_split=0.0,\n",
        "    verbose=1,\n",
        "    shuffle=True\n",
        ")\n",
        "# history2 = L1.fit(x=X, y=Y, epochs=1, batch_size=5, validation_split=0.0, verbose=1, shuffle=True)"
      ],
      "execution_count": 92,
      "outputs": [
        {
          "output_type": "stream",
          "text": [
            "2/2 [==============================] - 1s 259ms/step - loss: 0.1914\n"
          ],
          "name": "stdout"
        }
      ]
    },
    {
      "cell_type": "code",
      "metadata": {
        "id": "Nv0A7HJFPTAD"
      },
      "source": [
        "means1 = []\n",
        "\n",
        "for k in range(10):\n",
        "    l, r = k, k+1\n",
        "    l_pred = L1(Xn[l:r, :, :])[0]\n",
        "    y_pred = Net1.model.predict(Xn[l:r, :, :])\n",
        "\n",
        "    # for i in range(7):\n",
        "        # plt.plot(l_pred[0][0, :, i])\n",
        "    # for i in range(10):\n",
        "    # plt.plot(y_pred[0, :, 6])\n",
        "    # for i in range(0, 100, 10):\n",
        "    #     print(Yn[l:r, i, :])\n",
        "    means1.append(np.mean(np.mean(np.abs(l_pred))))"
      ],
      "execution_count": 98,
      "outputs": []
    },
    {
      "cell_type": "code",
      "metadata": {
        "id": "bvl4w8AcPho3"
      },
      "source": [
        "means2 = []\n",
        "\n",
        "for k in range(20, 40):\n",
        "    l, r = k, k+1\n",
        "    l_pred = L1(Xn[l:r, :, :])[0]\n",
        "    y_pred = Net1.model.predict(Xn[l:r, :, :])\n",
        "\n",
        "    # for i in range(7):\n",
        "    #     plt.plot(l_pred[0, i, :])\n",
        "    # for i in range(10):\n",
        "    # plt.plot(y_pred[0, :, 6])\n",
        "    # for i in range(0, 100, 10):\n",
        "    #     print(Yn[l:r, i, :])\n",
        "    means2.append(np.mean(np.mean(np.abs(l_pred))))"
      ],
      "execution_count": 99,
      "outputs": []
    },
    {
      "cell_type": "code",
      "metadata": {
        "colab": {
          "base_uri": "https://localhost:8080/"
        },
        "id": "kDjwIPy5RDRf",
        "outputId": "f697f28b-e961-4a87-bde2-adfaad499cd8"
      },
      "source": [
        "print(np.mean(means1), np.mean(means2))"
      ],
      "execution_count": 100,
      "outputs": [
        {
          "output_type": "stream",
          "text": [
            "0.036559604 0.08765531\n"
          ],
          "name": "stdout"
        }
      ]
    },
    {
      "cell_type": "code",
      "metadata": {
        "id": "5nFimIkWRO0g"
      },
      "source": [
        "  "
      ],
      "execution_count": null,
      "outputs": []
    }
  ]
}