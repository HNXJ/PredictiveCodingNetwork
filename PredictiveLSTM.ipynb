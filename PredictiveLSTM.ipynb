{
  "nbformat": 4,
  "nbformat_minor": 0,
  "metadata": {
    "colab": {
      "name": "PredictiveLSTM.ipynb",
      "provenance": [],
      "collapsed_sections": [],
      "authorship_tag": "ABX9TyP2j+8Xf3Ct/EQ8+X8YoNuB"
    },
    "kernelspec": {
      "name": "python3",
      "display_name": "Python 3"
    },
    "language_info": {
      "name": "python"
    },
    "accelerator": "GPU"
  },
  "cells": [
    {
      "cell_type": "code",
      "metadata": {
        "colab": {
          "base_uri": "https://localhost:8080/"
        },
        "id": "Nx1wIbKYUJZv",
        "outputId": "e3b5bf8d-7c5a-42f1-e0e6-04f189f1e957"
      },
      "source": [
        "from tensorflow.keras import backend as K\n",
        "from matplotlib import pyplot as plt\n",
        "import tensorflow as tf\n",
        "import numpy as np\n",
        "\n",
        "\n",
        "# GPU config if needed\n",
        "device_name = tf.test.gpu_device_name()\n",
        "if device_name != '/device:GPU:0':\n",
        "  raise SystemError('GPU device not found')\n",
        "print('Found GPU at: {}'.format(device_name))"
      ],
      "execution_count": 1,
      "outputs": [
        {
          "output_type": "stream",
          "text": [
            "Found GPU at: /device:GPU:0\n"
          ],
          "name": "stdout"
        }
      ]
    },
    {
      "cell_type": "markdown",
      "metadata": {
        "id": "yzeiPBSWSqzf"
      },
      "source": [
        "# Recurrent neural network based on predictive coding properties\n",
        "\n",
        "In this simulation, we will use task of [Abdullahi et. al 2020] by increasing temporal resolution from one image per step to 10 iterations for each input."
      ]
    },
    {
      "cell_type": "code",
      "metadata": {
        "id": "D9gapZk0XZd5"
      },
      "source": [
        "# TB\n",
        "# dir(tf.keras.layers.LSTM)"
      ],
      "execution_count": null,
      "outputs": []
    },
    {
      "cell_type": "code",
      "metadata": {
        "colab": {
          "base_uri": "https://localhost:8080/"
        },
        "id": "pqPCOuRhVWR6",
        "outputId": "e2ab75b2-9362-4e19-dfe2-043de390a3cd"
      },
      "source": [
        "(x_train,y_train),(x_test,y_test) = tf.keras.datasets.mnist.load_data()\n",
        "\n",
        "def create_serial_dataset(x=None, y=None, n=100, length=10, frames=10):\n",
        "\n",
        "    X = np.zeros([n, length*frames, x.shape[1], x.shape[2]])\n",
        "    Y = np.zeros([n, length*frames, 10])\n",
        "\n",
        "    for i in range(n):\n",
        "\n",
        "        k = np.random.randint(0, 1000, size=(length))\n",
        "        for j in range(length):\n",
        "          \n",
        "            X[i, j*frames:j*frames+frames, :, :] = x[k[j], :, :]\n",
        "            Y[i, j*frames:j*frames+frames, y[k[j]]] = 1\n",
        "          \n",
        "    return X.reshape(n, length*frames, x.shape[1] * x.shape[2]), Y\n",
        "\n",
        "Xn, Yn = create_serial_dataset(x_train, y_train, n=100, length=10, frames=20)\n",
        "X = Xn[:10, :, :]\n",
        "Y = Yn[:10, :, :]\n",
        "X.shape, Y.shape"
      ],
      "execution_count": 2,
      "outputs": [
        {
          "output_type": "stream",
          "text": [
            "Downloading data from https://storage.googleapis.com/tensorflow/tf-keras-datasets/mnist.npz\n",
            "11493376/11490434 [==============================] - 0s 0us/step\n"
          ],
          "name": "stdout"
        },
        {
          "output_type": "execute_result",
          "data": {
            "text/plain": [
              "((10, 200, 784), (10, 200, 10))"
            ]
          },
          "metadata": {
            "tags": []
          },
          "execution_count": 2
        }
      ]
    },
    {
      "cell_type": "code",
      "metadata": {
        "id": "zIUZqCsgYKio"
      },
      "source": [
        "class RNNModel1(tf.keras.Model):\n",
        "    def __init__(self):\n",
        "        super(RNNModel1, self).__init__()\n",
        "        self = tf.keras.Sequential()\n",
        "        self.add(tf.keras.layers.InputLayer(input_shape=(None, 784)))\n",
        "        self.add(tf.keras.layers.LSTM(\n",
        "          units=512,\n",
        "          recurrent_dropout=0.2,\n",
        "          return_sequences=True,\n",
        "          # return_state=True\n",
        "        ))\n",
        "        self.add(tf.keras.layers.Dense(units=10))\n",
        "        return\n",
        "        \n",
        "    def call(self, x):\n",
        "        return self(x)\n",
        "\n",
        "    def get_state(self):\n",
        "        return\n",
        "\n",
        "class RNNModel2(tf.keras.Model):\n",
        "    def __init__(self, units, vector_dim):\n",
        "        super(RNNModel2, self).__init__()\n",
        "        self.units = units\n",
        "        # self.embedding = tf.keras.layers.Embedding(vector_dim, 10)\n",
        "        self.rnn = tf.keras.layers.LSTM(self.units,\n",
        "                                      return_sequences=True,\n",
        "                                      return_state=True,\n",
        "                                      recurrent_initializer='glorot_uniform')\n",
        "        \n",
        "        self.fc1 = tf.keras.layers.Dense(vector_dim)\n",
        "        return\n",
        "\n",
        "    def call(self, x):\n",
        "        # x = self.embedding(x)\n",
        "        x2, state, x3 = self.rnn(x)\n",
        "\n",
        "        x = self.fc1(x2)\n",
        "        return x, state\n",
        "\n",
        "    def reset_state(self, batch_size):\n",
        "        return tf.zeros((batch_size, self.units))\n"
      ],
      "execution_count": 3,
      "outputs": []
    },
    {
      "cell_type": "code",
      "metadata": {
        "id": "7ro8ZWDSeKqR"
      },
      "source": [
        "def EnergyCostLoss(y_true, y_pred):\n",
        "    error = y_pred - y_true\n",
        "    return K.mean(K.square(error) + 2*K.mean(K.abs(y_pred)))"
      ],
      "execution_count": 4,
      "outputs": []
    },
    {
      "cell_type": "code",
      "metadata": {
        "colab": {
          "base_uri": "https://localhost:8080/"
        },
        "id": "5iTIYNPGZCOp",
        "outputId": "ccb60837-764a-417b-87fd-8e68a930ccf0"
      },
      "source": [
        "model = tf.keras.Sequential()\n",
        "model.add(tf.keras.layers.InputLayer(input_shape=(None, 784)))\n",
        "model.add(tf.keras.layers.LSTM(\n",
        "  units=512,\n",
        "  recurrent_dropout=0.2,\n",
        "  return_sequences=True,\n",
        "  # return_state=True\n",
        "))\n",
        "model.add(tf.keras.layers.Dense(units=10))\n",
        "# model = RNNModel1()\n",
        "model.compile(\n",
        "  loss=EnergyCostLoss,\n",
        "  optimizer=tf.keras.optimizers.Adam(learning_rate=0.003)\n",
        ")\n",
        "model.summary()"
      ],
      "execution_count": 5,
      "outputs": [
        {
          "output_type": "stream",
          "text": [
            "WARNING:tensorflow:Layer lstm will not use cuDNN kernels since it doesn't meet the criteria. It will use a generic GPU kernel as fallback when running on GPU.\n",
            "Model: \"sequential\"\n",
            "_________________________________________________________________\n",
            "Layer (type)                 Output Shape              Param #   \n",
            "=================================================================\n",
            "lstm (LSTM)                  (None, None, 512)         2656256   \n",
            "_________________________________________________________________\n",
            "dense (Dense)                (None, None, 10)          5130      \n",
            "=================================================================\n",
            "Total params: 2,661,386\n",
            "Trainable params: 2,661,386\n",
            "Non-trainable params: 0\n",
            "_________________________________________________________________\n"
          ],
          "name": "stdout"
        }
      ]
    },
    {
      "cell_type": "code",
      "metadata": {
        "colab": {
          "base_uri": "https://localhost:8080/"
        },
        "id": "ZIqr5QqRVBEw",
        "outputId": "8bf89f22-8e60-4cf4-f0ed-734a7f8ccb99"
      },
      "source": [
        "history = model.fit(\n",
        "    x=X, y=Y,\n",
        "    epochs=50,\n",
        "    batch_size=5,\n",
        "    validation_split=0.0,\n",
        "    verbose=1,\n",
        "    shuffle=False\n",
        ")"
      ],
      "execution_count": 6,
      "outputs": [
        {
          "output_type": "stream",
          "text": [
            "Epoch 1/50\n",
            "2/2 [==============================] - 5s 235ms/step - loss: 2.1454\n",
            "Epoch 2/50\n",
            "2/2 [==============================] - 0s 257ms/step - loss: 1.4483\n",
            "Epoch 3/50\n",
            "2/2 [==============================] - 1s 251ms/step - loss: 0.9194\n",
            "Epoch 4/50\n",
            "2/2 [==============================] - 0s 242ms/step - loss: 0.6969\n",
            "Epoch 5/50\n",
            "2/2 [==============================] - 0s 235ms/step - loss: 0.6315\n",
            "Epoch 6/50\n",
            "2/2 [==============================] - 0s 241ms/step - loss: 0.5338\n",
            "Epoch 7/50\n",
            "2/2 [==============================] - 0s 242ms/step - loss: 0.4835\n",
            "Epoch 8/50\n",
            "2/2 [==============================] - 0s 237ms/step - loss: 0.4554\n",
            "Epoch 9/50\n",
            "2/2 [==============================] - 0s 237ms/step - loss: 0.4194\n",
            "Epoch 10/50\n",
            "2/2 [==============================] - 0s 232ms/step - loss: 0.3976\n",
            "Epoch 11/50\n",
            "2/2 [==============================] - 0s 243ms/step - loss: 0.3813\n",
            "Epoch 12/50\n",
            "2/2 [==============================] - 0s 237ms/step - loss: 0.3554\n",
            "Epoch 13/50\n",
            "2/2 [==============================] - 0s 228ms/step - loss: 0.3345\n",
            "Epoch 14/50\n",
            "2/2 [==============================] - 0s 252ms/step - loss: 0.3231\n",
            "Epoch 15/50\n",
            "2/2 [==============================] - 0s 240ms/step - loss: 0.3209\n",
            "Epoch 16/50\n",
            "2/2 [==============================] - 0s 242ms/step - loss: 0.3048\n",
            "Epoch 17/50\n",
            "2/2 [==============================] - 0s 240ms/step - loss: 0.2890\n",
            "Epoch 18/50\n",
            "2/2 [==============================] - 0s 239ms/step - loss: 0.2812\n",
            "Epoch 19/50\n",
            "2/2 [==============================] - 0s 243ms/step - loss: 0.2672\n",
            "Epoch 20/50\n",
            "2/2 [==============================] - 0s 246ms/step - loss: 0.2542\n",
            "Epoch 21/50\n",
            "2/2 [==============================] - 0s 240ms/step - loss: 0.2435\n",
            "Epoch 22/50\n",
            "2/2 [==============================] - 0s 232ms/step - loss: 0.2368\n",
            "Epoch 23/50\n",
            "2/2 [==============================] - 0s 248ms/step - loss: 0.2303\n",
            "Epoch 24/50\n",
            "2/2 [==============================] - 0s 240ms/step - loss: 0.2271\n",
            "Epoch 25/50\n",
            "2/2 [==============================] - 0s 245ms/step - loss: 0.2233\n",
            "Epoch 26/50\n",
            "2/2 [==============================] - 0s 244ms/step - loss: 0.2192\n",
            "Epoch 27/50\n",
            "2/2 [==============================] - 0s 244ms/step - loss: 0.2121\n",
            "Epoch 28/50\n",
            "2/2 [==============================] - 0s 242ms/step - loss: 0.2118\n",
            "Epoch 29/50\n",
            "2/2 [==============================] - 0s 241ms/step - loss: 0.2050\n",
            "Epoch 30/50\n",
            "2/2 [==============================] - 0s 255ms/step - loss: 0.2028\n",
            "Epoch 31/50\n",
            "2/2 [==============================] - 0s 234ms/step - loss: 0.2030\n",
            "Epoch 32/50\n",
            "2/2 [==============================] - 1s 263ms/step - loss: 0.1987\n",
            "Epoch 33/50\n",
            "2/2 [==============================] - 0s 235ms/step - loss: 0.1939\n",
            "Epoch 34/50\n",
            "2/2 [==============================] - 0s 241ms/step - loss: 0.1908\n",
            "Epoch 35/50\n",
            "2/2 [==============================] - 0s 241ms/step - loss: 0.1868\n",
            "Epoch 36/50\n",
            "2/2 [==============================] - 0s 242ms/step - loss: 0.1817\n",
            "Epoch 37/50\n",
            "2/2 [==============================] - 0s 244ms/step - loss: 0.1794\n",
            "Epoch 38/50\n",
            "2/2 [==============================] - 0s 232ms/step - loss: 0.1780\n",
            "Epoch 39/50\n",
            "2/2 [==============================] - 0s 239ms/step - loss: 0.1770\n",
            "Epoch 40/50\n",
            "2/2 [==============================] - 0s 240ms/step - loss: 0.1715\n",
            "Epoch 41/50\n",
            "2/2 [==============================] - 0s 234ms/step - loss: 0.1711\n",
            "Epoch 42/50\n",
            "2/2 [==============================] - 0s 242ms/step - loss: 0.1695\n",
            "Epoch 43/50\n",
            "2/2 [==============================] - 0s 252ms/step - loss: 0.1685\n",
            "Epoch 44/50\n",
            "2/2 [==============================] - 1s 258ms/step - loss: 0.1643\n",
            "Epoch 45/50\n",
            "2/2 [==============================] - 1s 255ms/step - loss: 0.1616\n",
            "Epoch 46/50\n",
            "2/2 [==============================] - 0s 249ms/step - loss: 0.1625\n",
            "Epoch 47/50\n",
            "2/2 [==============================] - 0s 255ms/step - loss: 0.1590\n",
            "Epoch 48/50\n",
            "2/2 [==============================] - 0s 245ms/step - loss: 0.1584\n",
            "Epoch 49/50\n",
            "2/2 [==============================] - 0s 247ms/step - loss: 0.1558\n",
            "Epoch 50/50\n",
            "2/2 [==============================] - 1s 263ms/step - loss: 0.1528\n"
          ],
          "name": "stdout"
        }
      ]
    },
    {
      "cell_type": "code",
      "metadata": {
        "id": "qAzs21WYVFtI"
      },
      "source": [
        "# Median layer model\n",
        "L1 = K.function([model.layers[0].input],\n",
        "                                  [model.layers[0].output])\n"
      ],
      "execution_count": 7,
      "outputs": []
    },
    {
      "cell_type": "code",
      "metadata": {
        "id": "Nv0A7HJFPTAD"
      },
      "source": [
        "means1 = []\n",
        "\n",
        "for k in range(10):\n",
        "    l, r = k, k+1\n",
        "    l_pred = L1(Xn[l:r, :, :])[0]\n",
        "    y_pred = model.predict(Xn[l:r, :, :])\n",
        "\n",
        "    # for i in range(7):\n",
        "        # plt.plot(l_pred[0][0, :, i])\n",
        "    # for i in range(10):\n",
        "    # plt.plot(y_pred[0, :, 6])\n",
        "    # for i in range(0, 100, 10):\n",
        "    #     print(Yn[l:r, i, :])\n",
        "    means1.append(np.mean(np.mean(l_pred)))"
      ],
      "execution_count": 11,
      "outputs": []
    },
    {
      "cell_type": "code",
      "metadata": {
        "id": "bvl4w8AcPho3"
      },
      "source": [
        "means2 = []\n",
        "\n",
        "for k in range(20, 50):\n",
        "    l, r = k, k+1\n",
        "    l_pred = L1(Xn[l:r, :, :])[0]\n",
        "    y_pred = model.predict(Xn[l:r, :, :])\n",
        "\n",
        "    # for i in range(7):\n",
        "    #     plt.plot(l_pred[0, i, :])\n",
        "    # for i in range(10):\n",
        "    # plt.plot(y_pred[0, :, 6])\n",
        "    # for i in range(0, 100, 10):\n",
        "    #     print(Yn[l:r, i, :])\n",
        "    means2.append(np.mean(np.mean(l_pred)))"
      ],
      "execution_count": 12,
      "outputs": []
    },
    {
      "cell_type": "code",
      "metadata": {
        "colab": {
          "base_uri": "https://localhost:8080/"
        },
        "id": "kDjwIPy5RDRf",
        "outputId": "8ea038f5-0b35-42e3-953d-8971db86f5fd"
      },
      "source": [
        "print(np.mean(means1), np.mean(means2))"
      ],
      "execution_count": 13,
      "outputs": [
        {
          "output_type": "stream",
          "text": [
            "0.01985993 0.02046866\n"
          ],
          "name": "stdout"
        }
      ]
    },
    {
      "cell_type": "code",
      "metadata": {
        "id": "5nFimIkWRO0g"
      },
      "source": [
        "  "
      ],
      "execution_count": null,
      "outputs": []
    }
  ]
}