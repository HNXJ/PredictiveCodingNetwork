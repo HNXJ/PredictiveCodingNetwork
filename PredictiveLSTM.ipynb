{
  "nbformat": 4,
  "nbformat_minor": 0,
  "metadata": {
    "colab": {
      "name": "PredictiveLSTM.ipynb",
      "provenance": [],
      "collapsed_sections": [],
      "authorship_tag": "ABX9TyPx3iFUqpSmg12my5A/7oH9",
      "include_colab_link": true
    },
    "kernelspec": {
      "name": "python3",
      "display_name": "Python 3"
    },
    "language_info": {
      "name": "python"
    },
    "accelerator": "GPU"
  },
  "cells": [
    {
      "cell_type": "markdown",
      "metadata": {
        "id": "view-in-github",
        "colab_type": "text"
      },
      "source": [
        "<a href=\"https://colab.research.google.com/github/HNXJ/PredictiveCodingNetwork/blob/main/PredictiveLSTM.ipynb\" target=\"_parent\"><img src=\"https://colab.research.google.com/assets/colab-badge.svg\" alt=\"Open In Colab\"/></a>"
      ]
    },
    {
      "cell_type": "code",
      "metadata": {
        "colab": {
          "base_uri": "https://localhost:8080/"
        },
        "id": "Nx1wIbKYUJZv",
        "outputId": "00de5778-9429-4e29-9c18-2db76834c424"
      },
      "source": [
        "import tensorflow as tf\n",
        "import numpy as np\n",
        "\n",
        "\n",
        "# GPU config if needed\n",
        "device_name = tf.test.gpu_device_name()\n",
        "if device_name != '/device:GPU:0':\n",
        "  raise SystemError('GPU device not found')\n",
        "print('Found GPU at: {}'.format(device_name))"
      ],
      "execution_count": 2,
      "outputs": [
        {
          "output_type": "stream",
          "text": [
            "Found GPU at: /device:GPU:0\n"
          ],
          "name": "stdout"
        }
      ]
    },
    {
      "cell_type": "code",
      "metadata": {
        "id": "D9gapZk0XZd5"
      },
      "source": [
        "# TB\n",
        "# dir(tf.keras.layers.LSTM)"
      ],
      "execution_count": 3,
      "outputs": []
    },
    {
      "cell_type": "code",
      "metadata": {
        "colab": {
          "base_uri": "https://localhost:8080/"
        },
        "id": "pqPCOuRhVWR6",
        "outputId": "17270b7f-2d7f-4355-a4b2-b6c03195b5f6"
      },
      "source": [
        "(x_train,y_train),(x_test,y_test) = tf.keras.datasets.mnist.load_data()\n",
        "\n",
        "def create_serial_dataset(x=None, y=None, n=100, length=10, frames=10):\n",
        "\n",
        "    X = np.zeros([n, length*frames, x.shape[1], x.shape[2]])\n",
        "    Y = np.zeros([n, length*frames, 10])\n",
        "\n",
        "    for i in range(n):\n",
        "\n",
        "        k = np.random.randint(0, 1000, size=(length))\n",
        "        for j in range(length):\n",
        "          \n",
        "            X[i, j*frames:j*frames+frames, :, :] = x[k[j], :, :]\n",
        "            Y[i, j*frames:j*frames+frames, y[k[j]]] = 1\n",
        "          \n",
        "    return X.reshape(n, length*frames, x.shape[1] * x.shape[2]), Y\n",
        "\n",
        "Xn, Yn = create_serial_dataset(x_train, y_train, n=100, length=10, frames=4)\n",
        "X = Xn[:10, :, :]\n",
        "Y = Yn[:10, :, :]\n",
        "X.shape, Y.shape"
      ],
      "execution_count": 4,
      "outputs": [
        {
          "output_type": "stream",
          "text": [
            "Downloading data from https://storage.googleapis.com/tensorflow/tf-keras-datasets/mnist.npz\n",
            "11493376/11490434 [==============================] - 0s 0us/step\n"
          ],
          "name": "stdout"
        },
        {
          "output_type": "execute_result",
          "data": {
            "text/plain": [
              "((10, 40, 784), (10, 40, 10))"
            ]
          },
          "metadata": {
            "tags": []
          },
          "execution_count": 4
        }
      ]
    },
    {
      "cell_type": "code",
      "metadata": {
        "colab": {
          "base_uri": "https://localhost:8080/"
        },
        "id": "05nlCKtoUwQ7",
        "outputId": "4fee9e6e-c88e-411a-cf94-472c034a6b0f"
      },
      "source": [
        "model = tf.keras.Sequential()\n",
        "model.add(tf.keras.layers.InputLayer(input_shape=(None, 784)))\n",
        "model.add(tf.keras.layers.LSTM(\n",
        "  units=512,\n",
        "  recurrent_dropout=0.2,\n",
        "  return_sequences=True,\n",
        "  # return_state=True\n",
        "))\n",
        "model.add(tf.keras.layers.Dense(units=10))\n",
        "model.compile(\n",
        "  loss='mean_squared_error',\n",
        "  optimizer=tf.keras.optimizers.Adam(learning_rate=0.003)\n",
        ")\n",
        "model.summary()"
      ],
      "execution_count": 5,
      "outputs": [
        {
          "output_type": "stream",
          "text": [
            "WARNING:tensorflow:Layer lstm will not use cuDNN kernels since it doesn't meet the criteria. It will use a generic GPU kernel as fallback when running on GPU.\n",
            "Model: \"sequential\"\n",
            "_________________________________________________________________\n",
            "Layer (type)                 Output Shape              Param #   \n",
            "=================================================================\n",
            "lstm (LSTM)                  (None, None, 512)         2656256   \n",
            "_________________________________________________________________\n",
            "dense (Dense)                (None, None, 10)          5130      \n",
            "=================================================================\n",
            "Total params: 2,661,386\n",
            "Trainable params: 2,661,386\n",
            "Non-trainable params: 0\n",
            "_________________________________________________________________\n"
          ],
          "name": "stdout"
        }
      ]
    },
    {
      "cell_type": "code",
      "metadata": {
        "colab": {
          "base_uri": "https://localhost:8080/"
        },
        "id": "ZIqr5QqRVBEw",
        "outputId": "99f15f75-4c5d-43bb-bfc0-7a8470e6c578"
      },
      "source": [
        "history = model.fit(\n",
        "    x=X, y=Y,\n",
        "    epochs=60,\n",
        "    batch_size=5,\n",
        "    validation_split=0.0,\n",
        "    verbose=1,\n",
        "    shuffle=False\n",
        ")"
      ],
      "execution_count": 6,
      "outputs": [
        {
          "output_type": "stream",
          "text": [
            "Epoch 1/60\n",
            "2/2 [==============================] - 4s 74ms/step - loss: 0.6463\n",
            "Epoch 2/60\n",
            "2/2 [==============================] - 0s 66ms/step - loss: 0.3347\n",
            "Epoch 3/60\n",
            "2/2 [==============================] - 0s 59ms/step - loss: 0.1869\n",
            "Epoch 4/60\n",
            "2/2 [==============================] - 0s 58ms/step - loss: 0.1172\n",
            "Epoch 5/60\n",
            "2/2 [==============================] - 0s 56ms/step - loss: 0.0934\n",
            "Epoch 6/60\n",
            "2/2 [==============================] - 0s 56ms/step - loss: 0.0713\n",
            "Epoch 7/60\n",
            "2/2 [==============================] - 0s 56ms/step - loss: 0.0682\n",
            "Epoch 8/60\n",
            "2/2 [==============================] - 0s 56ms/step - loss: 0.0642\n",
            "Epoch 9/60\n",
            "2/2 [==============================] - 0s 57ms/step - loss: 0.0591\n",
            "Epoch 10/60\n",
            "2/2 [==============================] - 0s 56ms/step - loss: 0.0529\n",
            "Epoch 11/60\n",
            "2/2 [==============================] - 0s 56ms/step - loss: 0.0471\n",
            "Epoch 12/60\n",
            "2/2 [==============================] - 0s 56ms/step - loss: 0.0455\n",
            "Epoch 13/60\n",
            "2/2 [==============================] - 0s 57ms/step - loss: 0.0408\n",
            "Epoch 14/60\n",
            "2/2 [==============================] - 0s 55ms/step - loss: 0.0375\n",
            "Epoch 15/60\n",
            "2/2 [==============================] - 0s 57ms/step - loss: 0.0352\n",
            "Epoch 16/60\n",
            "2/2 [==============================] - 0s 54ms/step - loss: 0.0357\n",
            "Epoch 17/60\n",
            "2/2 [==============================] - 0s 54ms/step - loss: 0.0328\n",
            "Epoch 18/60\n",
            "2/2 [==============================] - 0s 57ms/step - loss: 0.0319\n",
            "Epoch 19/60\n",
            "2/2 [==============================] - 0s 54ms/step - loss: 0.0294\n",
            "Epoch 20/60\n",
            "2/2 [==============================] - 0s 55ms/step - loss: 0.0285\n",
            "Epoch 21/60\n",
            "2/2 [==============================] - 0s 56ms/step - loss: 0.0271\n",
            "Epoch 22/60\n",
            "2/2 [==============================] - 0s 57ms/step - loss: 0.0256\n",
            "Epoch 23/60\n",
            "2/2 [==============================] - 0s 57ms/step - loss: 0.0244\n",
            "Epoch 24/60\n",
            "2/2 [==============================] - 0s 57ms/step - loss: 0.0229\n",
            "Epoch 25/60\n",
            "2/2 [==============================] - 0s 55ms/step - loss: 0.0219\n",
            "Epoch 26/60\n",
            "2/2 [==============================] - 0s 58ms/step - loss: 0.0207\n",
            "Epoch 27/60\n",
            "2/2 [==============================] - 0s 57ms/step - loss: 0.0193\n",
            "Epoch 28/60\n",
            "2/2 [==============================] - 0s 56ms/step - loss: 0.0190\n",
            "Epoch 29/60\n",
            "2/2 [==============================] - 0s 58ms/step - loss: 0.0181\n",
            "Epoch 30/60\n",
            "2/2 [==============================] - 0s 57ms/step - loss: 0.0164\n",
            "Epoch 31/60\n",
            "2/2 [==============================] - 0s 53ms/step - loss: 0.0166\n",
            "Epoch 32/60\n",
            "2/2 [==============================] - 0s 57ms/step - loss: 0.0161\n",
            "Epoch 33/60\n",
            "2/2 [==============================] - 0s 57ms/step - loss: 0.0156\n",
            "Epoch 34/60\n",
            "2/2 [==============================] - 0s 59ms/step - loss: 0.0154\n",
            "Epoch 35/60\n",
            "2/2 [==============================] - 0s 58ms/step - loss: 0.0144\n",
            "Epoch 36/60\n",
            "2/2 [==============================] - 0s 57ms/step - loss: 0.0136\n",
            "Epoch 37/60\n",
            "2/2 [==============================] - 0s 55ms/step - loss: 0.0131\n",
            "Epoch 38/60\n",
            "2/2 [==============================] - 0s 55ms/step - loss: 0.0128\n",
            "Epoch 39/60\n",
            "2/2 [==============================] - 0s 55ms/step - loss: 0.0124\n",
            "Epoch 40/60\n",
            "2/2 [==============================] - 0s 54ms/step - loss: 0.0119\n",
            "Epoch 41/60\n",
            "2/2 [==============================] - 0s 57ms/step - loss: 0.0113\n",
            "Epoch 42/60\n",
            "2/2 [==============================] - 0s 57ms/step - loss: 0.0109\n",
            "Epoch 43/60\n",
            "2/2 [==============================] - 0s 55ms/step - loss: 0.0100\n",
            "Epoch 44/60\n",
            "2/2 [==============================] - 0s 54ms/step - loss: 0.0095\n",
            "Epoch 45/60\n",
            "2/2 [==============================] - 0s 56ms/step - loss: 0.0089\n",
            "Epoch 46/60\n",
            "2/2 [==============================] - 0s 58ms/step - loss: 0.0086\n",
            "Epoch 47/60\n",
            "2/2 [==============================] - 0s 54ms/step - loss: 0.0083\n",
            "Epoch 48/60\n",
            "2/2 [==============================] - 0s 59ms/step - loss: 0.0080\n",
            "Epoch 49/60\n",
            "2/2 [==============================] - 0s 58ms/step - loss: 0.0080\n",
            "Epoch 50/60\n",
            "2/2 [==============================] - 0s 57ms/step - loss: 0.0078\n",
            "Epoch 51/60\n",
            "2/2 [==============================] - 0s 61ms/step - loss: 0.0075\n",
            "Epoch 52/60\n",
            "2/2 [==============================] - 0s 66ms/step - loss: 0.0072\n",
            "Epoch 53/60\n",
            "2/2 [==============================] - 0s 64ms/step - loss: 0.0069\n",
            "Epoch 54/60\n",
            "2/2 [==============================] - 0s 58ms/step - loss: 0.0068\n",
            "Epoch 55/60\n",
            "2/2 [==============================] - 0s 58ms/step - loss: 0.0067\n",
            "Epoch 56/60\n",
            "2/2 [==============================] - 0s 61ms/step - loss: 0.0065\n",
            "Epoch 57/60\n",
            "2/2 [==============================] - 0s 58ms/step - loss: 0.0064\n",
            "Epoch 58/60\n",
            "2/2 [==============================] - 0s 60ms/step - loss: 0.0063\n",
            "Epoch 59/60\n",
            "2/2 [==============================] - 0s 64ms/step - loss: 0.0062\n",
            "Epoch 60/60\n",
            "2/2 [==============================] - 0s 58ms/step - loss: 0.0058\n"
          ],
          "name": "stdout"
        }
      ]
    },
    {
      "cell_type": "code",
      "metadata": {
        "id": "qAzs21WYVFtI"
      },
      "source": [
        "from matplotlib import pyplot as plt\n",
        "from tensorflow.keras import backend as K\n",
        "\n",
        "# with a Sequential model\n",
        "L1 = K.function([model.layers[0].input],\n",
        "                                  [model.layers[0].output])\n"
      ],
      "execution_count": 7,
      "outputs": []
    },
    {
      "cell_type": "code",
      "metadata": {
        "id": "Nv0A7HJFPTAD"
      },
      "source": [
        "means1 = []\n",
        "\n",
        "for k in range(10):\n",
        "    l, r = k, k+1\n",
        "    l_pred = L1(Xn[l:r, :, :])[0]\n",
        "    y_pred = model.predict(Xn[l:r, :, :])\n",
        "\n",
        "    # for i in range(7):\n",
        "        # plt.plot(l_pred[0][0, :, i])\n",
        "    # for i in range(10):\n",
        "    # plt.plot(y_pred[0, :, 6])\n",
        "    # for i in range(0, 100, 10):\n",
        "    #     print(Yn[l:r, i, :])\n",
        "    means1.append(np.mean(np.mean(np.abs(l_pred))))"
      ],
      "execution_count": 11,
      "outputs": []
    },
    {
      "cell_type": "code",
      "metadata": {
        "id": "bvl4w8AcPho3"
      },
      "source": [
        "means2 = []\n",
        "\n",
        "for k in range(20, 30):\n",
        "    l, r = k, k+1\n",
        "    l_pred = L1(Xn[l:r, :, :])[0]\n",
        "    y_pred = model.predict(Xn[l:r, :, :])\n",
        "\n",
        "    # for i in range(7):\n",
        "        # plt.plot(l_pred[0][0, :, i])\n",
        "    # for i in range(10):\n",
        "    # plt.plot(y_pred[0, :, 6])\n",
        "    # for i in range(0, 100, 10):\n",
        "    #     print(Yn[l:r, i, :])\n",
        "    means2.append(np.mean(np.mean(np.abs(l_pred))))"
      ],
      "execution_count": 12,
      "outputs": []
    },
    {
      "cell_type": "code",
      "metadata": {
        "colab": {
          "base_uri": "https://localhost:8080/"
        },
        "id": "kDjwIPy5RDRf",
        "outputId": "e35edce7-b0b2-4b79-a7c2-79ad40c9a8fa"
      },
      "source": [
        "print(np.mean(means1), np.mean(means2))"
      ],
      "execution_count": 13,
      "outputs": [
        {
          "output_type": "stream",
          "text": [
            "0.14462271 0.14411935\n"
          ],
          "name": "stdout"
        }
      ]
    },
    {
      "cell_type": "code",
      "metadata": {
        "id": "5nFimIkWRO0g"
      },
      "source": [
        ""
      ],
      "execution_count": null,
      "outputs": []
    }
  ]
}