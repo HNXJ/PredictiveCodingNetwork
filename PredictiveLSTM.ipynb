{
  "nbformat": 4,
  "nbformat_minor": 0,
  "metadata": {
    "colab": {
      "name": "PredictiveLSTM.ipynb",
      "provenance": [],
      "collapsed_sections": [],
      "authorship_tag": "ABX9TyN3PzW9nvrxDDt/K2G+kEnh",
      "include_colab_link": true
    },
    "kernelspec": {
      "name": "python3",
      "display_name": "Python 3"
    },
    "language_info": {
      "name": "python"
    },
    "accelerator": "GPU"
  },
  "cells": [
    {
      "cell_type": "markdown",
      "metadata": {
        "id": "view-in-github",
        "colab_type": "text"
      },
      "source": [
        "<a href=\"https://colab.research.google.com/github/HNXJ/PredictiveCodingNetwork/blob/main/PredictiveLSTM.ipynb\" target=\"_parent\"><img src=\"https://colab.research.google.com/assets/colab-badge.svg\" alt=\"Open In Colab\"/></a>"
      ]
    },
    {
      "cell_type": "code",
      "metadata": {
        "colab": {
          "base_uri": "https://localhost:8080/"
        },
        "id": "Nx1wIbKYUJZv",
        "outputId": "b81b730b-4b91-4ad4-ec3c-2a8be0c4978c"
      },
      "source": [
        "from tensorflow.keras import backend as K\n",
        "from matplotlib import pyplot as plt\n",
        "import tensorflow as tf\n",
        "import numpy as np\n",
        "\n",
        "\n",
        "# GPU config if needed\n",
        "device_name = tf.test.gpu_device_name()\n",
        "if device_name != '/device:GPU:0':\n",
        "  print('GPU device not found')\n",
        "print('Found GPU at: {}'.format(device_name))"
      ],
      "execution_count": 3,
      "outputs": [
        {
          "output_type": "stream",
          "text": [
            "Found GPU at: /device:GPU:0\n"
          ],
          "name": "stdout"
        }
      ]
    },
    {
      "cell_type": "markdown",
      "metadata": {
        "id": "yzeiPBSWSqzf"
      },
      "source": [
        "# Recurrent neural network based on predictive coding properties\n",
        "\n",
        "In this simulation, we will use task of [Abdullahi et. al 2020] by increasing temporal resolution from one image per step to 10 iterations for each input."
      ]
    },
    {
      "cell_type": "code",
      "metadata": {
        "id": "D9gapZk0XZd5"
      },
      "source": [
        "# TB\n",
        "# dir(tf.keras.layers.LSTM)"
      ],
      "execution_count": 4,
      "outputs": []
    },
    {
      "cell_type": "code",
      "metadata": {
        "id": "pqPCOuRhVWR6"
      },
      "source": [
        "def create_serial_dataset(x=None, y=None, n=100, length=10, frames=10):\n",
        "\n",
        "    X = np.zeros([n, length*frames, x.shape[1], x.shape[2]])\n",
        "    Y = np.zeros([n, length*frames, 10])\n",
        "\n",
        "    for i in range(n):\n",
        "\n",
        "        k = np.random.randint(0, 1000, size=(length))\n",
        "        for j in range(length):\n",
        "          \n",
        "            X[i, j*frames:j*frames+frames, :, :] = x[k[j], :, :]\n",
        "            Y[i, j*frames+1:j*frames+frames+1, y[k[j]]] = 1\n",
        "          \n",
        "    return X.reshape(n, length*frames, x.shape[1] * x.shape[2]), Y\n",
        "\n",
        "def init_MNIST():\n",
        "\n",
        "    (x_train,y_train), (x_test,y_test) = tf.keras.datasets.mnist.load_data()\n",
        "    Xn, Yn = create_serial_dataset(x_train, y_train, n=100, length=10, frames=10)\n",
        "    Xn /= 255.0\n",
        "    Yn /= 255.0\n",
        "    X = Xn[:10, :, :]\n",
        "    Y = Yn[:10, :, :]\n",
        "    return X, Y, Xn, Yn"
      ],
      "execution_count": 34,
      "outputs": []
    },
    {
      "cell_type": "code",
      "metadata": {
        "id": "zIUZqCsgYKio"
      },
      "source": [
        "class RNNModel1(tf.keras.Model):\n",
        "    def __init__(self):\n",
        "        super(RNNModel1, self).__init__()\n",
        "        self.Input = (tf.keras.layers.InputLayer(input_shape=(None, 784)))\n",
        "        self.LSTM = tf.keras.layers.LSTM(input_shape=(None, 784),\n",
        "          units=512,\n",
        "          recurrent_dropout=0.2,\n",
        "          return_sequences=True,\n",
        "          # return_state=True\n",
        "        )\n",
        "        self.FCN = tf.keras.layers.Dense(units=10)\n",
        "        return \n",
        "        \n",
        "    def call(self, x):\n",
        "        out = self.Input(x)\n",
        "        out = self.LSTM(x)\n",
        "        out = self.FCN(out)\n",
        "        return out\n",
        "\n",
        "    def get_state(self):\n",
        "        return"
      ],
      "execution_count": 35,
      "outputs": []
    },
    {
      "cell_type": "code",
      "metadata": {
        "id": "7ro8ZWDSeKqR"
      },
      "source": [
        "class PredictiveNet():\n",
        "    def __init__(self):\n",
        "        self.model = tf.keras.Sequential()\n",
        "        self.model.add(tf.keras.layers.InputLayer(input_shape=(None, 784)))\n",
        "        self.model.add(tf.keras.layers.LSTM(\n",
        "          units=512,\n",
        "          recurrent_dropout=0.2,\n",
        "          return_sequences=True,\n",
        "          activation=\"sigmoid\"\n",
        "          # return_state=True\n",
        "        ))\n",
        "        self.model.add(tf.keras.layers.Dense(units=10))\n",
        "        self.lastPreactivation = None\n",
        "        return\n",
        "\n",
        "    def printw(self): # Debug log\n",
        "        print(K.mean(self.model.layers[1].weights[0]))\n",
        "        return\n",
        "\n",
        "    def getPreactivation(self, x):\n",
        "        MTemp = K.function([self.model.layers[0].input],\n",
        "                                  [self.model.layers[1].input])\n",
        "        stateVector = MTemp(x)\n",
        "        self.lastPreactivation = stateVector[0]\n",
        "        return self.lastPreactivation\n",
        "\n",
        "    def EnergyCostLoss(self, y_true, y_pred):\n",
        "        error = y_pred - y_true\n",
        "        lambda1 = 1.2\n",
        "        lambda2 = 0.1\n",
        "        lambda3 = 0.1\n",
        "        # preact = self.lastPreactivation\n",
        "        return K.mean(K.square(error) + lambda1*K.mean(K.abs(y_pred))) + lambda2*K.mean(K.abs(self.model.layers[0].weights[0])) + lambda3*K.mean(K.abs(self.model.layers[1].weights[0]))"
      ],
      "execution_count": 84,
      "outputs": []
    },
    {
      "cell_type": "code",
      "metadata": {
        "colab": {
          "base_uri": "https://localhost:8080/"
        },
        "id": "5iTIYNPGZCOp",
        "outputId": "e279b357-3c17-4a03-d5d1-b7672786feb5"
      },
      "source": [
        "X, Y, Xn, Yn = init_MNIST()\n",
        "Net1 = PredictiveNet()\n",
        "# a = model.predict(Xn[1:2, :, :])\n",
        "Net1.model.compile(\n",
        "  loss=Net1.EnergyCostLoss,\n",
        "  optimizer=tf.keras.optimizers.Adam(learning_rate=0.003)\n",
        ")\n",
        "Net1.model.summary()\n",
        "\n",
        "Net1.printw()\n"
      ],
      "execution_count": 86,
      "outputs": [
        {
          "output_type": "stream",
          "text": [
            "WARNING:tensorflow:Layer lstm_4 will not use cuDNN kernels since it doesn't meet the criteria. It will use a generic GPU kernel as fallback when running on GPU.\n",
            "Model: \"sequential_4\"\n",
            "_________________________________________________________________\n",
            "Layer (type)                 Output Shape              Param #   \n",
            "=================================================================\n",
            "lstm_4 (LSTM)                (None, None, 512)         2656256   \n",
            "_________________________________________________________________\n",
            "dense_4 (Dense)              (None, None, 10)          5130      \n",
            "=================================================================\n",
            "Total params: 2,661,386\n",
            "Trainable params: 2,661,386\n",
            "Non-trainable params: 0\n",
            "_________________________________________________________________\n",
            "tf.Tensor(0.0010244482, shape=(), dtype=float32)\n"
          ],
          "name": "stdout"
        }
      ]
    },
    {
      "cell_type": "code",
      "metadata": {
        "id": "HE5dIE-Yw4L9"
      },
      "source": [
        ""
      ],
      "execution_count": null,
      "outputs": []
    },
    {
      "cell_type": "code",
      "metadata": {
        "colab": {
          "base_uri": "https://localhost:8080/"
        },
        "id": "ZIqr5QqRVBEw",
        "outputId": "b31f01e7-837f-4dd5-93f8-3963bbc98552"
      },
      "source": [
        "history = Net1.model.fit(\n",
        "    x=X, y=Y,\n",
        "    epochs=100,\n",
        "    batch_size=5,\n",
        "    validation_split=0.0,\n",
        "    verbose=1,\n",
        "    shuffle=True\n",
        ")"
      ],
      "execution_count": 87,
      "outputs": [
        {
          "output_type": "stream",
          "text": [
            "Epoch 1/100\n",
            "2/2 [==============================] - 2s 141ms/step - loss: 3.9471\n",
            "Epoch 2/100\n",
            "2/2 [==============================] - 0s 133ms/step - loss: 1.4669\n",
            "Epoch 3/100\n",
            "2/2 [==============================] - 0s 126ms/step - loss: 0.7782\n",
            "Epoch 4/100\n",
            "2/2 [==============================] - 0s 132ms/step - loss: 0.9990\n",
            "Epoch 5/100\n",
            "2/2 [==============================] - 0s 132ms/step - loss: 0.6749\n",
            "Epoch 6/100\n",
            "2/2 [==============================] - 0s 128ms/step - loss: 0.3366\n",
            "Epoch 7/100\n",
            "2/2 [==============================] - 0s 129ms/step - loss: 0.1466\n",
            "Epoch 8/100\n",
            "2/2 [==============================] - 0s 132ms/step - loss: 0.1480\n",
            "Epoch 9/100\n",
            "2/2 [==============================] - 0s 127ms/step - loss: 0.1901\n",
            "Epoch 10/100\n",
            "2/2 [==============================] - 0s 133ms/step - loss: 0.1971\n",
            "Epoch 11/100\n",
            "2/2 [==============================] - 0s 128ms/step - loss: 0.1728\n",
            "Epoch 12/100\n",
            "2/2 [==============================] - 0s 130ms/step - loss: 0.1312\n",
            "Epoch 13/100\n",
            "2/2 [==============================] - 0s 122ms/step - loss: 0.0928\n",
            "Epoch 14/100\n",
            "2/2 [==============================] - 0s 136ms/step - loss: 0.0714\n",
            "Epoch 15/100\n",
            "2/2 [==============================] - 0s 130ms/step - loss: 0.0645\n",
            "Epoch 16/100\n",
            "2/2 [==============================] - 0s 131ms/step - loss: 0.0547\n",
            "Epoch 17/100\n",
            "2/2 [==============================] - 0s 130ms/step - loss: 0.0568\n",
            "Epoch 18/100\n",
            "2/2 [==============================] - 0s 126ms/step - loss: 0.0556\n",
            "Epoch 19/100\n",
            "2/2 [==============================] - 0s 128ms/step - loss: 0.0471\n",
            "Epoch 20/100\n",
            "2/2 [==============================] - 0s 132ms/step - loss: 0.0464\n",
            "Epoch 21/100\n",
            "2/2 [==============================] - 0s 124ms/step - loss: 0.0384\n",
            "Epoch 22/100\n",
            "2/2 [==============================] - 0s 133ms/step - loss: 0.0245\n",
            "Epoch 23/100\n",
            "2/2 [==============================] - 0s 134ms/step - loss: 0.0275\n",
            "Epoch 24/100\n",
            "2/2 [==============================] - 0s 132ms/step - loss: 0.0310\n",
            "Epoch 25/100\n",
            "2/2 [==============================] - 0s 140ms/step - loss: 0.0278\n",
            "Epoch 26/100\n",
            "2/2 [==============================] - 0s 130ms/step - loss: 0.0221\n",
            "Epoch 27/100\n",
            "2/2 [==============================] - 0s 137ms/step - loss: 0.0203\n",
            "Epoch 28/100\n",
            "2/2 [==============================] - 0s 145ms/step - loss: 0.0201\n",
            "Epoch 29/100\n",
            "2/2 [==============================] - 0s 126ms/step - loss: 0.0197\n",
            "Epoch 30/100\n",
            "2/2 [==============================] - 0s 124ms/step - loss: 0.0186\n",
            "Epoch 31/100\n",
            "2/2 [==============================] - 0s 137ms/step - loss: 0.0159\n",
            "Epoch 32/100\n",
            "2/2 [==============================] - 0s 131ms/step - loss: 0.0166\n",
            "Epoch 33/100\n",
            "2/2 [==============================] - 0s 137ms/step - loss: 0.0162\n",
            "Epoch 34/100\n",
            "2/2 [==============================] - 0s 132ms/step - loss: 0.0143\n",
            "Epoch 35/100\n",
            "2/2 [==============================] - 0s 135ms/step - loss: 0.0150\n",
            "Epoch 36/100\n",
            "2/2 [==============================] - 0s 140ms/step - loss: 0.0143\n",
            "Epoch 37/100\n",
            "2/2 [==============================] - 0s 137ms/step - loss: 0.0132\n",
            "Epoch 38/100\n",
            "2/2 [==============================] - 0s 133ms/step - loss: 0.0132\n",
            "Epoch 39/100\n",
            "2/2 [==============================] - 0s 135ms/step - loss: 0.0132\n",
            "Epoch 40/100\n",
            "2/2 [==============================] - 0s 135ms/step - loss: 0.0127\n",
            "Epoch 41/100\n",
            "2/2 [==============================] - 0s 134ms/step - loss: 0.0125\n",
            "Epoch 42/100\n",
            "2/2 [==============================] - 0s 149ms/step - loss: 0.0126\n",
            "Epoch 43/100\n",
            "2/2 [==============================] - 0s 136ms/step - loss: 0.0121\n",
            "Epoch 44/100\n",
            "2/2 [==============================] - 0s 137ms/step - loss: 0.0120\n",
            "Epoch 45/100\n",
            "2/2 [==============================] - 0s 138ms/step - loss: 0.0121\n",
            "Epoch 46/100\n",
            "2/2 [==============================] - 0s 134ms/step - loss: 0.0120\n",
            "Epoch 47/100\n",
            "2/2 [==============================] - 0s 137ms/step - loss: 0.0123\n",
            "Epoch 48/100\n",
            "2/2 [==============================] - 0s 138ms/step - loss: 0.0121\n",
            "Epoch 49/100\n",
            "2/2 [==============================] - 0s 135ms/step - loss: 0.0123\n",
            "Epoch 50/100\n",
            "2/2 [==============================] - 0s 137ms/step - loss: 0.0120\n",
            "Epoch 51/100\n",
            "2/2 [==============================] - 0s 135ms/step - loss: 0.0124\n",
            "Epoch 52/100\n",
            "2/2 [==============================] - 0s 134ms/step - loss: 0.0123\n",
            "Epoch 53/100\n",
            "2/2 [==============================] - 0s 143ms/step - loss: 0.0118\n",
            "Epoch 54/100\n",
            "2/2 [==============================] - 0s 129ms/step - loss: 0.0123\n",
            "Epoch 55/100\n",
            "2/2 [==============================] - 0s 136ms/step - loss: 0.0121\n",
            "Epoch 56/100\n",
            "2/2 [==============================] - 0s 138ms/step - loss: 0.0117\n",
            "Epoch 57/100\n",
            "2/2 [==============================] - 0s 132ms/step - loss: 0.0121\n",
            "Epoch 58/100\n",
            "2/2 [==============================] - 0s 131ms/step - loss: 0.0123\n",
            "Epoch 59/100\n",
            "2/2 [==============================] - 0s 138ms/step - loss: 0.0134\n",
            "Epoch 60/100\n",
            "2/2 [==============================] - 0s 134ms/step - loss: 0.0119\n",
            "Epoch 61/100\n",
            "2/2 [==============================] - 0s 133ms/step - loss: 0.0119\n",
            "Epoch 62/100\n",
            "2/2 [==============================] - 0s 130ms/step - loss: 0.0117\n",
            "Epoch 63/100\n",
            "2/2 [==============================] - 0s 140ms/step - loss: 0.0121\n",
            "Epoch 64/100\n",
            "2/2 [==============================] - 0s 137ms/step - loss: 0.0124\n",
            "Epoch 65/100\n",
            "2/2 [==============================] - 0s 140ms/step - loss: 0.0124\n",
            "Epoch 66/100\n",
            "2/2 [==============================] - 0s 138ms/step - loss: 0.0125\n",
            "Epoch 67/100\n",
            "2/2 [==============================] - 0s 135ms/step - loss: 0.0132\n",
            "Epoch 68/100\n",
            "2/2 [==============================] - 0s 144ms/step - loss: 0.0120\n",
            "Epoch 69/100\n",
            "2/2 [==============================] - 0s 138ms/step - loss: 0.0118\n",
            "Epoch 70/100\n",
            "2/2 [==============================] - 0s 139ms/step - loss: 0.0118\n",
            "Epoch 71/100\n",
            "2/2 [==============================] - 0s 136ms/step - loss: 0.0121\n",
            "Epoch 72/100\n",
            "2/2 [==============================] - 0s 141ms/step - loss: 0.0126\n",
            "Epoch 73/100\n",
            "2/2 [==============================] - 0s 130ms/step - loss: 0.0132\n",
            "Epoch 74/100\n",
            "2/2 [==============================] - 0s 132ms/step - loss: 0.0118\n",
            "Epoch 75/100\n",
            "2/2 [==============================] - 0s 144ms/step - loss: 0.0125\n",
            "Epoch 76/100\n",
            "2/2 [==============================] - 0s 128ms/step - loss: 0.0124\n",
            "Epoch 77/100\n",
            "2/2 [==============================] - 0s 133ms/step - loss: 0.0118\n",
            "Epoch 78/100\n",
            "2/2 [==============================] - 0s 143ms/step - loss: 0.0119\n",
            "Epoch 79/100\n",
            "2/2 [==============================] - 0s 141ms/step - loss: 0.0126\n",
            "Epoch 80/100\n",
            "2/2 [==============================] - 0s 134ms/step - loss: 0.0120\n",
            "Epoch 81/100\n",
            "2/2 [==============================] - 0s 133ms/step - loss: 0.0115\n",
            "Epoch 82/100\n",
            "2/2 [==============================] - 0s 139ms/step - loss: 0.0117\n",
            "Epoch 83/100\n",
            "2/2 [==============================] - 0s 137ms/step - loss: 0.0127\n",
            "Epoch 84/100\n",
            "2/2 [==============================] - 0s 137ms/step - loss: 0.0132\n",
            "Epoch 85/100\n",
            "2/2 [==============================] - 0s 142ms/step - loss: 0.0126\n",
            "Epoch 86/100\n",
            "2/2 [==============================] - 0s 132ms/step - loss: 0.0118\n",
            "Epoch 87/100\n",
            "2/2 [==============================] - 0s 129ms/step - loss: 0.0112\n",
            "Epoch 88/100\n",
            "2/2 [==============================] - 0s 140ms/step - loss: 0.0113\n",
            "Epoch 89/100\n",
            "2/2 [==============================] - 0s 141ms/step - loss: 0.0110\n",
            "Epoch 90/100\n",
            "2/2 [==============================] - 0s 143ms/step - loss: 0.0122\n",
            "Epoch 91/100\n",
            "2/2 [==============================] - 0s 135ms/step - loss: 0.0120\n",
            "Epoch 92/100\n",
            "2/2 [==============================] - 0s 134ms/step - loss: 0.0120\n",
            "Epoch 93/100\n",
            "2/2 [==============================] - 0s 139ms/step - loss: 0.0125\n",
            "Epoch 94/100\n",
            "2/2 [==============================] - 0s 138ms/step - loss: 0.0118\n",
            "Epoch 95/100\n",
            "2/2 [==============================] - 0s 138ms/step - loss: 0.0144\n",
            "Epoch 96/100\n",
            "2/2 [==============================] - 0s 137ms/step - loss: 0.0136\n",
            "Epoch 97/100\n",
            "2/2 [==============================] - 0s 135ms/step - loss: 0.0125\n",
            "Epoch 98/100\n",
            "2/2 [==============================] - 0s 134ms/step - loss: 0.0121\n",
            "Epoch 99/100\n",
            "2/2 [==============================] - 0s 133ms/step - loss: 0.0121\n",
            "Epoch 100/100\n",
            "2/2 [==============================] - 0s 138ms/step - loss: 0.0124\n"
          ],
          "name": "stdout"
        }
      ]
    },
    {
      "cell_type": "code",
      "metadata": {
        "id": "qAzs21WYVFtI",
        "colab": {
          "base_uri": "https://localhost:8080/"
        },
        "outputId": "4d620b34-ab11-476d-f165-a19be780fb30"
      },
      "source": [
        "# Single epoch for test\n",
        "history = Net1.model.fit(\n",
        "    x=X, y=Y,\n",
        "    epochs=1,\n",
        "    batch_size=5,\n",
        "    validation_split=0.0,\n",
        "    verbose=1,\n",
        "    shuffle=True\n",
        ")\n",
        "# history2 = L1.fit(x=X, y=Y, epochs=1, batch_size=5, validation_split=0.0, verbose=1, shuffle=True)"
      ],
      "execution_count": 88,
      "outputs": [
        {
          "output_type": "stream",
          "text": [
            "2/2 [==============================] - 0s 140ms/step - loss: 0.0124\n"
          ],
          "name": "stdout"
        }
      ]
    },
    {
      "cell_type": "code",
      "metadata": {
        "colab": {
          "base_uri": "https://localhost:8080/"
        },
        "id": "1dMlf8hTlL1b",
        "outputId": "dde6b5ac-9c71-4b7f-8961-16c1327b4b35"
      },
      "source": [
        "Net1.getPreactivation(Xn[8:9, :, :]).shape"
      ],
      "execution_count": 89,
      "outputs": [
        {
          "output_type": "execute_result",
          "data": {
            "text/plain": [
              "(1, 100, 512)"
            ]
          },
          "metadata": {
            "tags": []
          },
          "execution_count": 89
        }
      ]
    },
    {
      "cell_type": "code",
      "metadata": {
        "id": "Nv0A7HJFPTAD"
      },
      "source": [
        "means1 = []\n",
        "means1a = []\n",
        "\n",
        "for k in range(10):\n",
        "    l, r = k, k+1\n",
        "    l_pred = Net1.getPreactivation(Xn[l:r, :, :])\n",
        "    y_pred = Net1.model.predict(Xn[l:r, :, :])\n",
        "\n",
        "    # for i in range(7):\n",
        "        # plt.plot(l_pred[0][0, :, i])\n",
        "    # for i in range(10):\n",
        "    # plt.plot(y_pred[0, :, 6])\n",
        "    # for i in range(0, 100, 10):\n",
        "    #     print(Yn[l:r, i, :])\n",
        "    means1.append(np.mean(np.mean(l_pred)))\n",
        "    means1a.append(np.mean(np.mean(np.abs(l_pred))))"
      ],
      "execution_count": 90,
      "outputs": []
    },
    {
      "cell_type": "code",
      "metadata": {
        "id": "bvl4w8AcPho3"
      },
      "source": [
        "means2 = []\n",
        "means2a = []\n",
        "\n",
        "for k in range(10, 30):\n",
        "    l, r = k, k+1\n",
        "    l_pred = Net1.getPreactivation(Xn[l:r, :, :])\n",
        "    y_pred = Net1.model.predict(Xn[l:r, :, :])\n",
        "\n",
        "    # for i in range(7):\n",
        "    #     plt.plot(l_pred[0, i, :])\n",
        "    # for i in range(10):\n",
        "    # plt.plot(y_pred[0, :, 6])\n",
        "    # for i in range(0, 100, 10):\n",
        "    #     print(Yn[l:r, i, :])\n",
        "    means2.append(np.mean(np.mean(l_pred)))\n",
        "    means2a.append(np.mean(np.mean(np.abs(l_pred))))"
      ],
      "execution_count": 91,
      "outputs": []
    },
    {
      "cell_type": "code",
      "metadata": {
        "colab": {
          "base_uri": "https://localhost:8080/"
        },
        "id": "kDjwIPy5RDRf",
        "outputId": "68ea57e4-6820-4dc8-be3f-ac3f85b3a022"
      },
      "source": [
        "print(\"Mean energy on recurrent preactivation (LSTM) on sigmoid activation function\")\n",
        "print(np.mean(means1), np.mean(means2), \"(ME)\")\n",
        "print(np.mean(means1a), np.mean(means2a), \"(MAE)\")\n",
        "print(100*np.abs(np.mean(means1)-np.mean(means2))/np.mean(means1), \"(Difference ratio, percentage %)\")"
      ],
      "execution_count": 92,
      "outputs": [
        {
          "output_type": "stream",
          "text": [
            "Mean energy on recurrent preactivation (LSTM) on sigmoid activation function\n",
            "0.05151429 0.053874098 (ME)\n",
            "0.05151429 0.053874098 (MAE)\n",
            "4.5808793614121575 (Difference ratio, percentage %)\n"
          ],
          "name": "stdout"
        }
      ]
    },
    {
      "cell_type": "markdown",
      "metadata": {
        "id": "RFbo2uU3hQfJ"
      },
      "source": [
        "## Lesioning the network\n",
        "\n",
        "In this section, we've lesioned the RNN via adding a gaussian noise with mean=0 and STD=0.1 to all weights of the network as a simulation of simple lesioning.\n"
      ]
    },
    {
      "cell_type": "code",
      "metadata": {
        "id": "OX_tEwkohTzn"
      },
      "source": [
        "w = Net1.model.get_weights()\n",
        "for i in range(len(w)):\n",
        "    w[i] += (np.random.randn(*w[i].shape))*0.1\n",
        "Net1.model.set_weights(w)"
      ],
      "execution_count": 93,
      "outputs": []
    },
    {
      "cell_type": "code",
      "metadata": {
        "colab": {
          "base_uri": "https://localhost:8080/"
        },
        "id": "yfYNWruWnms-",
        "outputId": "a3b2b78f-203a-4a71-faa6-02651c3a2a82"
      },
      "source": [
        "# Single epoch for test\n",
        "history = Net1.model.fit(\n",
        "    x=X, y=Y,\n",
        "    epochs=1,\n",
        "    batch_size=5,\n",
        "    validation_split=0.0,\n",
        "    verbose=1,\n",
        "    shuffle=True\n",
        ")\n",
        "# history2 = L1.fit(x=X, y=Y, epochs=1, batch_size=5, validation_split=0.0, verbose=1, shuffle=True)"
      ],
      "execution_count": 94,
      "outputs": [
        {
          "output_type": "stream",
          "text": [
            "2/2 [==============================] - 0s 140ms/step - loss: 0.3215\n"
          ],
          "name": "stdout"
        }
      ]
    },
    {
      "cell_type": "code",
      "metadata": {
        "id": "5nFimIkWRO0g"
      },
      "source": [
        "means1 = []\n",
        "means1a = []\n",
        "\n",
        "for k in range(10):\n",
        "    l, r = k, k+1\n",
        "    l_pred = Net1.getPreactivation(Xn[l:r, :, :])\n",
        "    y_pred = Net1.model.predict(Xn[l:r, :, :])\n",
        "\n",
        "    # for i in range(7):\n",
        "        # plt.plot(l_pred[0][0, :, i])\n",
        "    # for i in range(10):\n",
        "    # plt.plot(y_pred[0, :, 6])\n",
        "    # for i in range(0, 100, 10):\n",
        "    #     print(Yn[l:r, i, :])\n",
        "    means1.append(np.mean(np.mean(l_pred)))\n",
        "    means1a.append(np.mean(np.mean(np.abs(l_pred))))"
      ],
      "execution_count": 95,
      "outputs": []
    },
    {
      "cell_type": "code",
      "metadata": {
        "id": "IrNYpR5ricJz"
      },
      "source": [
        "means2 = []\n",
        "means2a = []\n",
        "\n",
        "for k in range(10, 30):\n",
        "    l, r = k, k+1\n",
        "    l_pred = Net1.getPreactivation(Xn[l:r, :, :])\n",
        "    y_pred = Net1.model.predict(Xn[l:r, :, :])\n",
        "\n",
        "    # for i in range(7):\n",
        "    #     plt.plot(l_pred[0, i, :])\n",
        "    # for i in range(10):\n",
        "    # plt.plot(y_pred[0, :, 6])\n",
        "    # for i in range(0, 100, 10):\n",
        "    #     print(Yn[l:r, i, :])\n",
        "    means2.append(np.mean(np.mean(l_pred)))\n",
        "    means2a.append(np.mean(np.mean(np.abs(l_pred))))"
      ],
      "execution_count": 96,
      "outputs": []
    },
    {
      "cell_type": "code",
      "metadata": {
        "colab": {
          "base_uri": "https://localhost:8080/"
        },
        "id": "SZqFPv4mifEc",
        "outputId": "f2e4d7f0-abe0-41d3-a1e1-ebcd5d1c7aad"
      },
      "source": [
        "print(\"Mean energy on recurrent preactivation (LSTM) on sigmoid activation function after lesioning\")\n",
        "print(np.mean(means1), np.mean(means2), \"(ME)\")\n",
        "print(np.mean(means1a), np.mean(means2a), \"(MAE)\")\n",
        "print(100*np.abs(np.mean(means1)-np.mean(means2))/np.mean(means2), \"(Difference ratio, percentage %)\")"
      ],
      "execution_count": 97,
      "outputs": [
        {
          "output_type": "stream",
          "text": [
            "Mean energy on recurrent preactivation (LSTM) on sigmoid activation function after lesioning\n",
            "0.060204376 0.06205582 (ME)\n",
            "0.060204376 0.06205582 (MAE)\n",
            "2.9835126487710215 (Difference ratio, percentage %)\n"
          ],
          "name": "stdout"
        }
      ]
    },
    {
      "cell_type": "code",
      "metadata": {
        "id": "XPA9gwQbpDkH"
      },
      "source": [
        ""
      ],
      "execution_count": null,
      "outputs": []
    }
  ]
}